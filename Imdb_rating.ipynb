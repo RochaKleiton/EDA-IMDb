{
 "cells": [
  {
   "cell_type": "markdown",
   "metadata": {
    "id": "jiiNUDbyQ5d8"
   },
   "source": [
    "# 0-Projeto EDA grupo 3"
   ]
  },
  {
   "cell_type": "markdown",
   "metadata": {
    "id": "laIUKsAYM5YJ"
   },
   "source": [
    "André Alves Teixeira\n",
    "\n",
    "Daniel Mota\n",
    "\n",
    "Henrique Inácio\n",
    "\n",
    "Kleiton Rocha De Oliveira\n",
    "\n",
    "Matheus Rocha Dos Santos Rangel\n",
    "\n",
    "Wendrik De Oliveira Santana"
   ]
  },
  {
   "cell_type": "markdown",
   "metadata": {
    "id": "W8qttbuXR_yr"
   },
   "source": [
    "# 1-Introdução"
   ]
  },
  {
   "cell_type": "markdown",
   "metadata": {
    "id": "K7DQooJ3RCUC"
   },
   "source": [
    "\n",
    "Iremos fazer uma análise sobre o DataSet contendo informções sobre os alguns filmes cadastrados no IMDb.\n",
    "\n",
    "Nosso objetivo é ver como as variáveis se relacionam com a variável Gross (receita bruta)"
   ]
  },
  {
   "cell_type": "markdown",
   "metadata": {
    "id": "_AGMmptcQx7u"
   },
   "source": [
    "Base de dados se encontra no Kagle pelo endereço:\n",
    "\n",
    "https://www.kaggle.com/datasets/harshitshankhdhar/imdb-dataset-of-top-1000-movies-and-tv-shows"
   ]
  },
  {
   "cell_type": "code",
   "execution_count": 100,
   "metadata": {
    "id": "GsCsUZCxRwgl"
   },
   "outputs": [],
   "source": [
    "import numpy as np\n",
    "import pandas as pd\n",
    "import matplotlib.pyplot as plt\n",
    "import seaborn as sns\n",
    "from matplotlib import rcParams\n",
    "%matplotlib inline"
   ]
  },
  {
   "cell_type": "code",
   "execution_count": 101,
   "metadata": {
    "id": "4rLYMaYIRwrt"
   },
   "outputs": [],
   "source": [
    "df = pd.read_csv('data/imdb_top_1000.csv')"
   ]
  },
  {
   "cell_type": "code",
   "execution_count": 102,
   "metadata": {
    "colab": {
     "base_uri": "https://localhost:8080/",
     "height": 722
    },
    "id": "g7cV8f_mRV32",
    "outputId": "ccbbd4fe-1d53-4ab0-93de-c8609426b805"
   },
   "outputs": [
    {
     "data": {
      "text/html": [
       "<div>\n",
       "<style scoped>\n",
       "    .dataframe tbody tr th:only-of-type {\n",
       "        vertical-align: middle;\n",
       "    }\n",
       "\n",
       "    .dataframe tbody tr th {\n",
       "        vertical-align: top;\n",
       "    }\n",
       "\n",
       "    .dataframe thead th {\n",
       "        text-align: right;\n",
       "    }\n",
       "</style>\n",
       "<table border=\"1\" class=\"dataframe\">\n",
       "  <thead>\n",
       "    <tr style=\"text-align: right;\">\n",
       "      <th></th>\n",
       "      <th>Poster_Link</th>\n",
       "      <th>Series_Title</th>\n",
       "      <th>Released_Year</th>\n",
       "      <th>Certificate</th>\n",
       "      <th>Runtime</th>\n",
       "      <th>Genre</th>\n",
       "      <th>IMDB_Rating</th>\n",
       "      <th>Overview</th>\n",
       "      <th>Meta_score</th>\n",
       "      <th>Director</th>\n",
       "      <th>Star1</th>\n",
       "      <th>Star2</th>\n",
       "      <th>Star3</th>\n",
       "      <th>Star4</th>\n",
       "      <th>No_of_Votes</th>\n",
       "      <th>Gross</th>\n",
       "    </tr>\n",
       "  </thead>\n",
       "  <tbody>\n",
       "    <tr>\n",
       "      <th>0</th>\n",
       "      <td>https://m.media-amazon.com/images/M/MV5BMDFkYT...</td>\n",
       "      <td>The Shawshank Redemption</td>\n",
       "      <td>1994</td>\n",
       "      <td>A</td>\n",
       "      <td>142 min</td>\n",
       "      <td>Drama</td>\n",
       "      <td>9.3</td>\n",
       "      <td>Two imprisoned men bond over a number of years...</td>\n",
       "      <td>80.0</td>\n",
       "      <td>Frank Darabont</td>\n",
       "      <td>Tim Robbins</td>\n",
       "      <td>Morgan Freeman</td>\n",
       "      <td>Bob Gunton</td>\n",
       "      <td>William Sadler</td>\n",
       "      <td>2343110</td>\n",
       "      <td>28,341,469</td>\n",
       "    </tr>\n",
       "    <tr>\n",
       "      <th>1</th>\n",
       "      <td>https://m.media-amazon.com/images/M/MV5BM2MyNj...</td>\n",
       "      <td>The Godfather</td>\n",
       "      <td>1972</td>\n",
       "      <td>A</td>\n",
       "      <td>175 min</td>\n",
       "      <td>Crime, Drama</td>\n",
       "      <td>9.2</td>\n",
       "      <td>An organized crime dynasty's aging patriarch t...</td>\n",
       "      <td>100.0</td>\n",
       "      <td>Francis Ford Coppola</td>\n",
       "      <td>Marlon Brando</td>\n",
       "      <td>Al Pacino</td>\n",
       "      <td>James Caan</td>\n",
       "      <td>Diane Keaton</td>\n",
       "      <td>1620367</td>\n",
       "      <td>134,966,411</td>\n",
       "    </tr>\n",
       "    <tr>\n",
       "      <th>2</th>\n",
       "      <td>https://m.media-amazon.com/images/M/MV5BMTMxNT...</td>\n",
       "      <td>The Dark Knight</td>\n",
       "      <td>2008</td>\n",
       "      <td>UA</td>\n",
       "      <td>152 min</td>\n",
       "      <td>Action, Crime, Drama</td>\n",
       "      <td>9.0</td>\n",
       "      <td>When the menace known as the Joker wreaks havo...</td>\n",
       "      <td>84.0</td>\n",
       "      <td>Christopher Nolan</td>\n",
       "      <td>Christian Bale</td>\n",
       "      <td>Heath Ledger</td>\n",
       "      <td>Aaron Eckhart</td>\n",
       "      <td>Michael Caine</td>\n",
       "      <td>2303232</td>\n",
       "      <td>534,858,444</td>\n",
       "    </tr>\n",
       "    <tr>\n",
       "      <th>3</th>\n",
       "      <td>https://m.media-amazon.com/images/M/MV5BMWMwMG...</td>\n",
       "      <td>The Godfather: Part II</td>\n",
       "      <td>1974</td>\n",
       "      <td>A</td>\n",
       "      <td>202 min</td>\n",
       "      <td>Crime, Drama</td>\n",
       "      <td>9.0</td>\n",
       "      <td>The early life and career of Vito Corleone in ...</td>\n",
       "      <td>90.0</td>\n",
       "      <td>Francis Ford Coppola</td>\n",
       "      <td>Al Pacino</td>\n",
       "      <td>Robert De Niro</td>\n",
       "      <td>Robert Duvall</td>\n",
       "      <td>Diane Keaton</td>\n",
       "      <td>1129952</td>\n",
       "      <td>57,300,000</td>\n",
       "    </tr>\n",
       "    <tr>\n",
       "      <th>4</th>\n",
       "      <td>https://m.media-amazon.com/images/M/MV5BMWU4N2...</td>\n",
       "      <td>12 Angry Men</td>\n",
       "      <td>1957</td>\n",
       "      <td>U</td>\n",
       "      <td>96 min</td>\n",
       "      <td>Crime, Drama</td>\n",
       "      <td>9.0</td>\n",
       "      <td>A jury holdout attempts to prevent a miscarria...</td>\n",
       "      <td>96.0</td>\n",
       "      <td>Sidney Lumet</td>\n",
       "      <td>Henry Fonda</td>\n",
       "      <td>Lee J. Cobb</td>\n",
       "      <td>Martin Balsam</td>\n",
       "      <td>John Fiedler</td>\n",
       "      <td>689845</td>\n",
       "      <td>4,360,000</td>\n",
       "    </tr>\n",
       "  </tbody>\n",
       "</table>\n",
       "</div>"
      ],
      "text/plain": [
       "                                         Poster_Link  \\\n",
       "0  https://m.media-amazon.com/images/M/MV5BMDFkYT...   \n",
       "1  https://m.media-amazon.com/images/M/MV5BM2MyNj...   \n",
       "2  https://m.media-amazon.com/images/M/MV5BMTMxNT...   \n",
       "3  https://m.media-amazon.com/images/M/MV5BMWMwMG...   \n",
       "4  https://m.media-amazon.com/images/M/MV5BMWU4N2...   \n",
       "\n",
       "               Series_Title Released_Year Certificate  Runtime  \\\n",
       "0  The Shawshank Redemption          1994           A  142 min   \n",
       "1             The Godfather          1972           A  175 min   \n",
       "2           The Dark Knight          2008          UA  152 min   \n",
       "3    The Godfather: Part II          1974           A  202 min   \n",
       "4              12 Angry Men          1957           U   96 min   \n",
       "\n",
       "                  Genre  IMDB_Rating  \\\n",
       "0                 Drama          9.3   \n",
       "1          Crime, Drama          9.2   \n",
       "2  Action, Crime, Drama          9.0   \n",
       "3          Crime, Drama          9.0   \n",
       "4          Crime, Drama          9.0   \n",
       "\n",
       "                                            Overview  Meta_score  \\\n",
       "0  Two imprisoned men bond over a number of years...        80.0   \n",
       "1  An organized crime dynasty's aging patriarch t...       100.0   \n",
       "2  When the menace known as the Joker wreaks havo...        84.0   \n",
       "3  The early life and career of Vito Corleone in ...        90.0   \n",
       "4  A jury holdout attempts to prevent a miscarria...        96.0   \n",
       "\n",
       "               Director           Star1           Star2          Star3  \\\n",
       "0        Frank Darabont     Tim Robbins  Morgan Freeman     Bob Gunton   \n",
       "1  Francis Ford Coppola   Marlon Brando       Al Pacino     James Caan   \n",
       "2     Christopher Nolan  Christian Bale    Heath Ledger  Aaron Eckhart   \n",
       "3  Francis Ford Coppola       Al Pacino  Robert De Niro  Robert Duvall   \n",
       "4          Sidney Lumet     Henry Fonda     Lee J. Cobb  Martin Balsam   \n",
       "\n",
       "            Star4  No_of_Votes        Gross  \n",
       "0  William Sadler      2343110   28,341,469  \n",
       "1    Diane Keaton      1620367  134,966,411  \n",
       "2   Michael Caine      2303232  534,858,444  \n",
       "3    Diane Keaton      1129952   57,300,000  \n",
       "4    John Fiedler       689845    4,360,000  "
      ]
     },
     "execution_count": 102,
     "metadata": {},
     "output_type": "execute_result"
    }
   ],
   "source": [
    "# Vizualização das 5 primeiras linhas do dataset.\n",
    "\n",
    "df.head()"
   ]
  },
  {
   "cell_type": "code",
   "execution_count": 103,
   "metadata": {
    "colab": {
     "base_uri": "https://localhost:8080/",
     "height": 687
    },
    "id": "TMcSzTGqRV_2",
    "outputId": "6ee430be-5818-4a2f-a650-49abea22d8b0"
   },
   "outputs": [
    {
     "data": {
      "text/html": [
       "<div>\n",
       "<style scoped>\n",
       "    .dataframe tbody tr th:only-of-type {\n",
       "        vertical-align: middle;\n",
       "    }\n",
       "\n",
       "    .dataframe tbody tr th {\n",
       "        vertical-align: top;\n",
       "    }\n",
       "\n",
       "    .dataframe thead th {\n",
       "        text-align: right;\n",
       "    }\n",
       "</style>\n",
       "<table border=\"1\" class=\"dataframe\">\n",
       "  <thead>\n",
       "    <tr style=\"text-align: right;\">\n",
       "      <th></th>\n",
       "      <th>Poster_Link</th>\n",
       "      <th>Series_Title</th>\n",
       "      <th>Released_Year</th>\n",
       "      <th>Certificate</th>\n",
       "      <th>Runtime</th>\n",
       "      <th>Genre</th>\n",
       "      <th>IMDB_Rating</th>\n",
       "      <th>Overview</th>\n",
       "      <th>Meta_score</th>\n",
       "      <th>Director</th>\n",
       "      <th>Star1</th>\n",
       "      <th>Star2</th>\n",
       "      <th>Star3</th>\n",
       "      <th>Star4</th>\n",
       "      <th>No_of_Votes</th>\n",
       "      <th>Gross</th>\n",
       "    </tr>\n",
       "  </thead>\n",
       "  <tbody>\n",
       "    <tr>\n",
       "      <th>995</th>\n",
       "      <td>https://m.media-amazon.com/images/M/MV5BNGEwMT...</td>\n",
       "      <td>Breakfast at Tiffany's</td>\n",
       "      <td>1961</td>\n",
       "      <td>A</td>\n",
       "      <td>115 min</td>\n",
       "      <td>Comedy, Drama, Romance</td>\n",
       "      <td>7.6</td>\n",
       "      <td>A young New York socialite becomes interested ...</td>\n",
       "      <td>76.0</td>\n",
       "      <td>Blake Edwards</td>\n",
       "      <td>Audrey Hepburn</td>\n",
       "      <td>George Peppard</td>\n",
       "      <td>Patricia Neal</td>\n",
       "      <td>Buddy Ebsen</td>\n",
       "      <td>166544</td>\n",
       "      <td>NaN</td>\n",
       "    </tr>\n",
       "    <tr>\n",
       "      <th>996</th>\n",
       "      <td>https://m.media-amazon.com/images/M/MV5BODk3Yj...</td>\n",
       "      <td>Giant</td>\n",
       "      <td>1956</td>\n",
       "      <td>G</td>\n",
       "      <td>201 min</td>\n",
       "      <td>Drama, Western</td>\n",
       "      <td>7.6</td>\n",
       "      <td>Sprawling epic covering the life of a Texas ca...</td>\n",
       "      <td>84.0</td>\n",
       "      <td>George Stevens</td>\n",
       "      <td>Elizabeth Taylor</td>\n",
       "      <td>Rock Hudson</td>\n",
       "      <td>James Dean</td>\n",
       "      <td>Carroll Baker</td>\n",
       "      <td>34075</td>\n",
       "      <td>NaN</td>\n",
       "    </tr>\n",
       "    <tr>\n",
       "      <th>997</th>\n",
       "      <td>https://m.media-amazon.com/images/M/MV5BM2U3Yz...</td>\n",
       "      <td>From Here to Eternity</td>\n",
       "      <td>1953</td>\n",
       "      <td>Passed</td>\n",
       "      <td>118 min</td>\n",
       "      <td>Drama, Romance, War</td>\n",
       "      <td>7.6</td>\n",
       "      <td>In Hawaii in 1941, a private is cruelly punish...</td>\n",
       "      <td>85.0</td>\n",
       "      <td>Fred Zinnemann</td>\n",
       "      <td>Burt Lancaster</td>\n",
       "      <td>Montgomery Clift</td>\n",
       "      <td>Deborah Kerr</td>\n",
       "      <td>Donna Reed</td>\n",
       "      <td>43374</td>\n",
       "      <td>30,500,000</td>\n",
       "    </tr>\n",
       "    <tr>\n",
       "      <th>998</th>\n",
       "      <td>https://m.media-amazon.com/images/M/MV5BZTBmMj...</td>\n",
       "      <td>Lifeboat</td>\n",
       "      <td>1944</td>\n",
       "      <td>NaN</td>\n",
       "      <td>97 min</td>\n",
       "      <td>Drama, War</td>\n",
       "      <td>7.6</td>\n",
       "      <td>Several survivors of a torpedoed merchant ship...</td>\n",
       "      <td>78.0</td>\n",
       "      <td>Alfred Hitchcock</td>\n",
       "      <td>Tallulah Bankhead</td>\n",
       "      <td>John Hodiak</td>\n",
       "      <td>Walter Slezak</td>\n",
       "      <td>William Bendix</td>\n",
       "      <td>26471</td>\n",
       "      <td>NaN</td>\n",
       "    </tr>\n",
       "    <tr>\n",
       "      <th>999</th>\n",
       "      <td>https://m.media-amazon.com/images/M/MV5BMTY5OD...</td>\n",
       "      <td>The 39 Steps</td>\n",
       "      <td>1935</td>\n",
       "      <td>NaN</td>\n",
       "      <td>86 min</td>\n",
       "      <td>Crime, Mystery, Thriller</td>\n",
       "      <td>7.6</td>\n",
       "      <td>A man in London tries to help a counter-espion...</td>\n",
       "      <td>93.0</td>\n",
       "      <td>Alfred Hitchcock</td>\n",
       "      <td>Robert Donat</td>\n",
       "      <td>Madeleine Carroll</td>\n",
       "      <td>Lucie Mannheim</td>\n",
       "      <td>Godfrey Tearle</td>\n",
       "      <td>51853</td>\n",
       "      <td>NaN</td>\n",
       "    </tr>\n",
       "  </tbody>\n",
       "</table>\n",
       "</div>"
      ],
      "text/plain": [
       "                                           Poster_Link  \\\n",
       "995  https://m.media-amazon.com/images/M/MV5BNGEwMT...   \n",
       "996  https://m.media-amazon.com/images/M/MV5BODk3Yj...   \n",
       "997  https://m.media-amazon.com/images/M/MV5BM2U3Yz...   \n",
       "998  https://m.media-amazon.com/images/M/MV5BZTBmMj...   \n",
       "999  https://m.media-amazon.com/images/M/MV5BMTY5OD...   \n",
       "\n",
       "               Series_Title Released_Year Certificate  Runtime  \\\n",
       "995  Breakfast at Tiffany's          1961           A  115 min   \n",
       "996                   Giant          1956           G  201 min   \n",
       "997   From Here to Eternity          1953      Passed  118 min   \n",
       "998                Lifeboat          1944         NaN   97 min   \n",
       "999            The 39 Steps          1935         NaN   86 min   \n",
       "\n",
       "                        Genre  IMDB_Rating  \\\n",
       "995    Comedy, Drama, Romance          7.6   \n",
       "996            Drama, Western          7.6   \n",
       "997       Drama, Romance, War          7.6   \n",
       "998                Drama, War          7.6   \n",
       "999  Crime, Mystery, Thriller          7.6   \n",
       "\n",
       "                                              Overview  Meta_score  \\\n",
       "995  A young New York socialite becomes interested ...        76.0   \n",
       "996  Sprawling epic covering the life of a Texas ca...        84.0   \n",
       "997  In Hawaii in 1941, a private is cruelly punish...        85.0   \n",
       "998  Several survivors of a torpedoed merchant ship...        78.0   \n",
       "999  A man in London tries to help a counter-espion...        93.0   \n",
       "\n",
       "             Director              Star1              Star2           Star3  \\\n",
       "995     Blake Edwards     Audrey Hepburn     George Peppard   Patricia Neal   \n",
       "996    George Stevens   Elizabeth Taylor        Rock Hudson      James Dean   \n",
       "997    Fred Zinnemann     Burt Lancaster   Montgomery Clift    Deborah Kerr   \n",
       "998  Alfred Hitchcock  Tallulah Bankhead        John Hodiak   Walter Slezak   \n",
       "999  Alfred Hitchcock       Robert Donat  Madeleine Carroll  Lucie Mannheim   \n",
       "\n",
       "              Star4  No_of_Votes       Gross  \n",
       "995     Buddy Ebsen       166544         NaN  \n",
       "996   Carroll Baker        34075         NaN  \n",
       "997      Donna Reed        43374  30,500,000  \n",
       "998  William Bendix        26471         NaN  \n",
       "999  Godfrey Tearle        51853         NaN  "
      ]
     },
     "execution_count": 103,
     "metadata": {},
     "output_type": "execute_result"
    }
   ],
   "source": [
    "# Vizualização das 5 últimas linhas do dataset.\n",
    "\n",
    "df.tail()"
   ]
  },
  {
   "cell_type": "code",
   "execution_count": 104,
   "metadata": {
    "colab": {
     "base_uri": "https://localhost:8080/"
    },
    "id": "lKdEGpEjRWDC",
    "outputId": "adb38ec9-346e-460b-9f97-2b338ae42dc0"
   },
   "outputs": [
    {
     "data": {
      "text/plain": [
       "(1000, 16)"
      ]
     },
     "execution_count": 104,
     "metadata": {},
     "output_type": "execute_result"
    }
   ],
   "source": [
    "# Verificando shape do dataset (linhas, colunas).\n",
    "\n",
    "df.shape"
   ]
  },
  {
   "cell_type": "code",
   "execution_count": 105,
   "metadata": {
    "colab": {
     "base_uri": "https://localhost:8080/"
    },
    "id": "N2uEPcABRWFk",
    "outputId": "d1023a1e-9772-4264-a03e-ca867685f9e7"
   },
   "outputs": [
    {
     "name": "stdout",
     "output_type": "stream",
     "text": [
      "<class 'pandas.core.frame.DataFrame'>\n",
      "RangeIndex: 1000 entries, 0 to 999\n",
      "Data columns (total 16 columns):\n",
      " #   Column         Non-Null Count  Dtype  \n",
      "---  ------         --------------  -----  \n",
      " 0   Poster_Link    1000 non-null   object \n",
      " 1   Series_Title   1000 non-null   object \n",
      " 2   Released_Year  1000 non-null   object \n",
      " 3   Certificate    899 non-null    object \n",
      " 4   Runtime        1000 non-null   object \n",
      " 5   Genre          1000 non-null   object \n",
      " 6   IMDB_Rating    1000 non-null   float64\n",
      " 7   Overview       1000 non-null   object \n",
      " 8   Meta_score     843 non-null    float64\n",
      " 9   Director       1000 non-null   object \n",
      " 10  Star1          1000 non-null   object \n",
      " 11  Star2          1000 non-null   object \n",
      " 12  Star3          1000 non-null   object \n",
      " 13  Star4          1000 non-null   object \n",
      " 14  No_of_Votes    1000 non-null   int64  \n",
      " 15  Gross          831 non-null    object \n",
      "dtypes: float64(2), int64(1), object(13)\n",
      "memory usage: 125.1+ KB\n"
     ]
    }
   ],
   "source": [
    "# Verificando informações do dataset (colunas, quantidade de non-null e tipo do dado).\n",
    "\n",
    "df.info()"
   ]
  },
  {
   "cell_type": "markdown",
   "metadata": {
    "id": "TEuVkVJcCJ-0"
   },
   "source": [
    "Avaliação:\n",
    "1. Released_Year pode ser alterado pata int, para facilitar categorização e análise.\n",
    "2. Runtime pode ser alterado pata int, para facilitar categorização e análise.\n",
    "3. Gross pode ser alterado pata float, para facilitar categorização e análise.\n",
    "4. Colunas 'Poster_Link' e 'Overview' não serão úteis para esta análise."
   ]
  },
  {
   "cell_type": "code",
   "execution_count": 106,
   "metadata": {
    "colab": {
     "base_uri": "https://localhost:8080/",
     "height": 249
    },
    "id": "jnh8euSPRWLE",
    "outputId": "7738c052-1d5f-4b02-d26f-0721ab363760"
   },
   "outputs": [
    {
     "data": {
      "text/html": [
       "<div>\n",
       "<style scoped>\n",
       "    .dataframe tbody tr th:only-of-type {\n",
       "        vertical-align: middle;\n",
       "    }\n",
       "\n",
       "    .dataframe tbody tr th {\n",
       "        vertical-align: top;\n",
       "    }\n",
       "\n",
       "    .dataframe thead th {\n",
       "        text-align: right;\n",
       "    }\n",
       "</style>\n",
       "<table border=\"1\" class=\"dataframe\">\n",
       "  <thead>\n",
       "    <tr style=\"text-align: right;\">\n",
       "      <th></th>\n",
       "      <th>Poster_Link</th>\n",
       "      <th>Series_Title</th>\n",
       "      <th>Released_Year</th>\n",
       "      <th>Certificate</th>\n",
       "      <th>Runtime</th>\n",
       "      <th>Genre</th>\n",
       "      <th>IMDB_Rating</th>\n",
       "      <th>Overview</th>\n",
       "      <th>Meta_score</th>\n",
       "      <th>Director</th>\n",
       "      <th>Star1</th>\n",
       "      <th>Star2</th>\n",
       "      <th>Star3</th>\n",
       "      <th>Star4</th>\n",
       "      <th>No_of_Votes</th>\n",
       "      <th>Gross</th>\n",
       "    </tr>\n",
       "  </thead>\n",
       "  <tbody>\n",
       "    <tr>\n",
       "      <th>966</th>\n",
       "      <td>https://m.media-amazon.com/images/M/MV5BNjEzYj...</td>\n",
       "      <td>Apollo 13</td>\n",
       "      <td>PG</td>\n",
       "      <td>U</td>\n",
       "      <td>140 min</td>\n",
       "      <td>Adventure, Drama, History</td>\n",
       "      <td>7.6</td>\n",
       "      <td>NASA must devise a strategy to return Apollo 1...</td>\n",
       "      <td>77.0</td>\n",
       "      <td>Ron Howard</td>\n",
       "      <td>Tom Hanks</td>\n",
       "      <td>Bill Paxton</td>\n",
       "      <td>Kevin Bacon</td>\n",
       "      <td>Gary Sinise</td>\n",
       "      <td>269197</td>\n",
       "      <td>173,837,933</td>\n",
       "    </tr>\n",
       "  </tbody>\n",
       "</table>\n",
       "</div>"
      ],
      "text/plain": [
       "                                           Poster_Link Series_Title  \\\n",
       "966  https://m.media-amazon.com/images/M/MV5BNjEzYj...    Apollo 13   \n",
       "\n",
       "    Released_Year Certificate  Runtime                      Genre  \\\n",
       "966            PG           U  140 min  Adventure, Drama, History   \n",
       "\n",
       "     IMDB_Rating                                           Overview  \\\n",
       "966          7.6  NASA must devise a strategy to return Apollo 1...   \n",
       "\n",
       "     Meta_score    Director      Star1        Star2        Star3        Star4  \\\n",
       "966        77.0  Ron Howard  Tom Hanks  Bill Paxton  Kevin Bacon  Gary Sinise   \n",
       "\n",
       "     No_of_Votes        Gross  \n",
       "966       269197  173,837,933  "
      ]
     },
     "execution_count": 106,
     "metadata": {},
     "output_type": "execute_result"
    }
   ],
   "source": [
    "# Transformando tipo de Released_Year para int64, foi encontrado um valor não numérico, 'PG'\n",
    "# Localizado o valor, verificado e pesquisado o filme. Apollo 13 foi lançado em: 1995\n",
    "\n",
    "df_pg = df.loc[df['Released_Year'] == 'PG']\n",
    "df_pg.head()"
   ]
  },
  {
   "cell_type": "code",
   "execution_count": 107,
   "metadata": {
    "colab": {
     "base_uri": "https://localhost:8080/"
    },
    "id": "cwRqlXsyRWNr",
    "outputId": "1c7e2470-5d81-4a8b-cbea-4e4884166a95"
   },
   "outputs": [
    {
     "data": {
      "text/plain": [
       "Poster_Link      https://m.media-amazon.com/images/M/MV5BNjEzYj...\n",
       "Series_Title                                             Apollo 13\n",
       "Released_Year                                                 1995\n",
       "Certificate                                                      U\n",
       "Runtime                                                    140 min\n",
       "Genre                                    Adventure, Drama, History\n",
       "IMDB_Rating                                                    7.6\n",
       "Overview         NASA must devise a strategy to return Apollo 1...\n",
       "Meta_score                                                    77.0\n",
       "Director                                                Ron Howard\n",
       "Star1                                                    Tom Hanks\n",
       "Star2                                                  Bill Paxton\n",
       "Star3                                                  Kevin Bacon\n",
       "Star4                                                  Gary Sinise\n",
       "No_of_Votes                                                 269197\n",
       "Gross                                                  173,837,933\n",
       "Name: 966, dtype: object"
      ]
     },
     "execution_count": 107,
     "metadata": {},
     "output_type": "execute_result"
    }
   ],
   "source": [
    "# Substituindo o dado correto em 'Released_Year' de Apollo 13.\n",
    "\n",
    "df.loc[[966], ['Released_Year']] = '1995'\n",
    "df.loc[966]"
   ]
  },
  {
   "cell_type": "code",
   "execution_count": 108,
   "metadata": {
    "id": "dpAeIBwORWQs"
   },
   "outputs": [],
   "source": [
    "# Alterando o tipo de 'Released_Year' para int64.\n",
    "\n",
    "df['Released_Year'] = df['Released_Year'].astype(dtype = 'int64')"
   ]
  },
  {
   "cell_type": "code",
   "execution_count": 109,
   "metadata": {
    "id": "GVBeh0UVhRl5"
   },
   "outputs": [],
   "source": [
    "# Transformando as colunas 'Runtime' em int.\n",
    "\n",
    "df['Runtime'] = df['Runtime'].str.split(' ', expand=True)[0]\n",
    "df = df.astype({\"Runtime\":'int'})"
   ]
  },
  {
   "cell_type": "code",
   "execution_count": 110,
   "metadata": {
    "colab": {
     "base_uri": "https://localhost:8080/",
     "height": 722
    },
    "id": "fEz5iilBU8QL",
    "outputId": "e84d28ce-dca8-44c9-f597-ab74a1fad894"
   },
   "outputs": [
    {
     "data": {
      "text/html": [
       "<div>\n",
       "<style scoped>\n",
       "    .dataframe tbody tr th:only-of-type {\n",
       "        vertical-align: middle;\n",
       "    }\n",
       "\n",
       "    .dataframe tbody tr th {\n",
       "        vertical-align: top;\n",
       "    }\n",
       "\n",
       "    .dataframe thead th {\n",
       "        text-align: right;\n",
       "    }\n",
       "</style>\n",
       "<table border=\"1\" class=\"dataframe\">\n",
       "  <thead>\n",
       "    <tr style=\"text-align: right;\">\n",
       "      <th></th>\n",
       "      <th>Poster_Link</th>\n",
       "      <th>Series_Title</th>\n",
       "      <th>Released_Year</th>\n",
       "      <th>Certificate</th>\n",
       "      <th>Runtime</th>\n",
       "      <th>Genre</th>\n",
       "      <th>IMDB_Rating</th>\n",
       "      <th>Overview</th>\n",
       "      <th>Meta_score</th>\n",
       "      <th>Director</th>\n",
       "      <th>Star1</th>\n",
       "      <th>Star2</th>\n",
       "      <th>Star3</th>\n",
       "      <th>Star4</th>\n",
       "      <th>No_of_Votes</th>\n",
       "      <th>Gross</th>\n",
       "    </tr>\n",
       "  </thead>\n",
       "  <tbody>\n",
       "    <tr>\n",
       "      <th>0</th>\n",
       "      <td>https://m.media-amazon.com/images/M/MV5BMDFkYT...</td>\n",
       "      <td>The Shawshank Redemption</td>\n",
       "      <td>1994</td>\n",
       "      <td>A</td>\n",
       "      <td>142</td>\n",
       "      <td>Drama</td>\n",
       "      <td>9.3</td>\n",
       "      <td>Two imprisoned men bond over a number of years...</td>\n",
       "      <td>80.0</td>\n",
       "      <td>Frank Darabont</td>\n",
       "      <td>Tim Robbins</td>\n",
       "      <td>Morgan Freeman</td>\n",
       "      <td>Bob Gunton</td>\n",
       "      <td>William Sadler</td>\n",
       "      <td>2343110</td>\n",
       "      <td>28341469.0</td>\n",
       "    </tr>\n",
       "    <tr>\n",
       "      <th>1</th>\n",
       "      <td>https://m.media-amazon.com/images/M/MV5BM2MyNj...</td>\n",
       "      <td>The Godfather</td>\n",
       "      <td>1972</td>\n",
       "      <td>A</td>\n",
       "      <td>175</td>\n",
       "      <td>Crime, Drama</td>\n",
       "      <td>9.2</td>\n",
       "      <td>An organized crime dynasty's aging patriarch t...</td>\n",
       "      <td>100.0</td>\n",
       "      <td>Francis Ford Coppola</td>\n",
       "      <td>Marlon Brando</td>\n",
       "      <td>Al Pacino</td>\n",
       "      <td>James Caan</td>\n",
       "      <td>Diane Keaton</td>\n",
       "      <td>1620367</td>\n",
       "      <td>134966411.0</td>\n",
       "    </tr>\n",
       "    <tr>\n",
       "      <th>2</th>\n",
       "      <td>https://m.media-amazon.com/images/M/MV5BMTMxNT...</td>\n",
       "      <td>The Dark Knight</td>\n",
       "      <td>2008</td>\n",
       "      <td>UA</td>\n",
       "      <td>152</td>\n",
       "      <td>Action, Crime, Drama</td>\n",
       "      <td>9.0</td>\n",
       "      <td>When the menace known as the Joker wreaks havo...</td>\n",
       "      <td>84.0</td>\n",
       "      <td>Christopher Nolan</td>\n",
       "      <td>Christian Bale</td>\n",
       "      <td>Heath Ledger</td>\n",
       "      <td>Aaron Eckhart</td>\n",
       "      <td>Michael Caine</td>\n",
       "      <td>2303232</td>\n",
       "      <td>534858444.0</td>\n",
       "    </tr>\n",
       "    <tr>\n",
       "      <th>3</th>\n",
       "      <td>https://m.media-amazon.com/images/M/MV5BMWMwMG...</td>\n",
       "      <td>The Godfather: Part II</td>\n",
       "      <td>1974</td>\n",
       "      <td>A</td>\n",
       "      <td>202</td>\n",
       "      <td>Crime, Drama</td>\n",
       "      <td>9.0</td>\n",
       "      <td>The early life and career of Vito Corleone in ...</td>\n",
       "      <td>90.0</td>\n",
       "      <td>Francis Ford Coppola</td>\n",
       "      <td>Al Pacino</td>\n",
       "      <td>Robert De Niro</td>\n",
       "      <td>Robert Duvall</td>\n",
       "      <td>Diane Keaton</td>\n",
       "      <td>1129952</td>\n",
       "      <td>57300000.0</td>\n",
       "    </tr>\n",
       "    <tr>\n",
       "      <th>4</th>\n",
       "      <td>https://m.media-amazon.com/images/M/MV5BMWU4N2...</td>\n",
       "      <td>12 Angry Men</td>\n",
       "      <td>1957</td>\n",
       "      <td>U</td>\n",
       "      <td>96</td>\n",
       "      <td>Crime, Drama</td>\n",
       "      <td>9.0</td>\n",
       "      <td>A jury holdout attempts to prevent a miscarria...</td>\n",
       "      <td>96.0</td>\n",
       "      <td>Sidney Lumet</td>\n",
       "      <td>Henry Fonda</td>\n",
       "      <td>Lee J. Cobb</td>\n",
       "      <td>Martin Balsam</td>\n",
       "      <td>John Fiedler</td>\n",
       "      <td>689845</td>\n",
       "      <td>4360000.0</td>\n",
       "    </tr>\n",
       "  </tbody>\n",
       "</table>\n",
       "</div>"
      ],
      "text/plain": [
       "                                         Poster_Link  \\\n",
       "0  https://m.media-amazon.com/images/M/MV5BMDFkYT...   \n",
       "1  https://m.media-amazon.com/images/M/MV5BM2MyNj...   \n",
       "2  https://m.media-amazon.com/images/M/MV5BMTMxNT...   \n",
       "3  https://m.media-amazon.com/images/M/MV5BMWMwMG...   \n",
       "4  https://m.media-amazon.com/images/M/MV5BMWU4N2...   \n",
       "\n",
       "               Series_Title  Released_Year Certificate  Runtime  \\\n",
       "0  The Shawshank Redemption           1994           A      142   \n",
       "1             The Godfather           1972           A      175   \n",
       "2           The Dark Knight           2008          UA      152   \n",
       "3    The Godfather: Part II           1974           A      202   \n",
       "4              12 Angry Men           1957           U       96   \n",
       "\n",
       "                  Genre  IMDB_Rating  \\\n",
       "0                 Drama          9.3   \n",
       "1          Crime, Drama          9.2   \n",
       "2  Action, Crime, Drama          9.0   \n",
       "3          Crime, Drama          9.0   \n",
       "4          Crime, Drama          9.0   \n",
       "\n",
       "                                            Overview  Meta_score  \\\n",
       "0  Two imprisoned men bond over a number of years...        80.0   \n",
       "1  An organized crime dynasty's aging patriarch t...       100.0   \n",
       "2  When the menace known as the Joker wreaks havo...        84.0   \n",
       "3  The early life and career of Vito Corleone in ...        90.0   \n",
       "4  A jury holdout attempts to prevent a miscarria...        96.0   \n",
       "\n",
       "               Director           Star1           Star2          Star3  \\\n",
       "0        Frank Darabont     Tim Robbins  Morgan Freeman     Bob Gunton   \n",
       "1  Francis Ford Coppola   Marlon Brando       Al Pacino     James Caan   \n",
       "2     Christopher Nolan  Christian Bale    Heath Ledger  Aaron Eckhart   \n",
       "3  Francis Ford Coppola       Al Pacino  Robert De Niro  Robert Duvall   \n",
       "4          Sidney Lumet     Henry Fonda     Lee J. Cobb  Martin Balsam   \n",
       "\n",
       "            Star4  No_of_Votes        Gross  \n",
       "0  William Sadler      2343110   28341469.0  \n",
       "1    Diane Keaton      1620367  134966411.0  \n",
       "2   Michael Caine      2303232  534858444.0  \n",
       "3    Diane Keaton      1129952   57300000.0  \n",
       "4    John Fiedler       689845    4360000.0  "
      ]
     },
     "execution_count": 110,
     "metadata": {},
     "output_type": "execute_result"
    }
   ],
   "source": [
    "# Tranformando a coluna 'Gross' em tipo float para avaliar.\n",
    "\n",
    "df['Gross'] = df['Gross'].str.replace(',','')\n",
    "df['Gross'] = df['Gross'].astype(dtype = 'float64')\n",
    "df.head()"
   ]
  },
  {
   "cell_type": "code",
   "execution_count": 111,
   "metadata": {
    "id": "NjiY9SxKhB9K"
   },
   "outputs": [],
   "source": [
    "# Avaliamos que as colunas 'Poster Link' e 'Overview' não serão úteis para esta análise. Portanto, serão excluídas para evitar desperdício.\n",
    "\n",
    "columns = ['Poster_Link', 'Overview']\n",
    "df = df.drop(columns, axis=1)"
   ]
  },
  {
   "cell_type": "code",
   "execution_count": 112,
   "metadata": {
    "id": "uyOPd0uAhNJf"
   },
   "outputs": [],
   "source": [
    "#df['Genre'] = df['Genre'].str.split(', ', expand=True)[0]"
   ]
  },
  {
   "cell_type": "code",
   "execution_count": 113,
   "metadata": {
    "colab": {
     "base_uri": "https://localhost:8080/"
    },
    "id": "x79tAhgdU8Sv",
    "outputId": "e1eb840a-5526-462e-a5f6-6c2188e99b39"
   },
   "outputs": [
    {
     "name": "stdout",
     "output_type": "stream",
     "text": [
      "<class 'pandas.core.frame.DataFrame'>\n",
      "RangeIndex: 1000 entries, 0 to 999\n",
      "Data columns (total 14 columns):\n",
      " #   Column         Non-Null Count  Dtype  \n",
      "---  ------         --------------  -----  \n",
      " 0   Series_Title   1000 non-null   object \n",
      " 1   Released_Year  1000 non-null   int64  \n",
      " 2   Certificate    899 non-null    object \n",
      " 3   Runtime        1000 non-null   int32  \n",
      " 4   Genre          1000 non-null   object \n",
      " 5   IMDB_Rating    1000 non-null   float64\n",
      " 6   Meta_score     843 non-null    float64\n",
      " 7   Director       1000 non-null   object \n",
      " 8   Star1          1000 non-null   object \n",
      " 9   Star2          1000 non-null   object \n",
      " 10  Star3          1000 non-null   object \n",
      " 11  Star4          1000 non-null   object \n",
      " 12  No_of_Votes    1000 non-null   int64  \n",
      " 13  Gross          831 non-null    float64\n",
      "dtypes: float64(3), int32(1), int64(2), object(8)\n",
      "memory usage: 105.6+ KB\n"
     ]
    }
   ],
   "source": [
    "# Verificando informações do dataset após as alterações de tipo.\n",
    "\n",
    "df.info()"
   ]
  },
  {
   "cell_type": "code",
   "execution_count": 114,
   "metadata": {
    "colab": {
     "base_uri": "https://localhost:8080/"
    },
    "id": "w3NRXkVLTt4s",
    "outputId": "1fd27f51-0392-47f2-a1a9-16d7bf292e54"
   },
   "outputs": [
    {
     "data": {
      "text/plain": [
       "Series_Title      0.0\n",
       "Released_Year     0.0\n",
       "Certificate      10.1\n",
       "Runtime           0.0\n",
       "Genre             0.0\n",
       "IMDB_Rating       0.0\n",
       "Meta_score       15.7\n",
       "Director          0.0\n",
       "Star1             0.0\n",
       "Star2             0.0\n",
       "Star3             0.0\n",
       "Star4             0.0\n",
       "No_of_Votes       0.0\n",
       "Gross            16.9\n",
       "dtype: float64"
      ]
     },
     "execution_count": 114,
     "metadata": {},
     "output_type": "execute_result"
    }
   ],
   "source": [
    "# Verificando  a % de valores null para cada variável.\n",
    "\n",
    "(df.isnull().sum() / df.shape[0])*100"
   ]
  },
  {
   "cell_type": "code",
   "execution_count": 115,
   "metadata": {
    "id": "nSJbq49JTt7A"
   },
   "outputs": [],
   "source": [
    "# Removendo as linhas de filmes que não possuem valor de arrecadação, que é a nossa variável alvo.\n",
    "\n",
    "df = df.dropna(subset = ['Gross'])"
   ]
  },
  {
   "cell_type": "code",
   "execution_count": 116,
   "metadata": {
    "colab": {
     "base_uri": "https://localhost:8080/"
    },
    "id": "JeBotPZ7RWTi",
    "outputId": "f28406b9-9d53-487a-fb67-f14e9bfcff07"
   },
   "outputs": [
    {
     "data": {
      "text/plain": [
       "Series_Title     0.000000\n",
       "Released_Year    0.000000\n",
       "Certificate      5.535499\n",
       "Runtime          0.000000\n",
       "Genre            0.000000\n",
       "IMDB_Rating      0.000000\n",
       "Meta_score       9.747292\n",
       "Director         0.000000\n",
       "Star1            0.000000\n",
       "Star2            0.000000\n",
       "Star3            0.000000\n",
       "Star4            0.000000\n",
       "No_of_Votes      0.000000\n",
       "Gross            0.000000\n",
       "dtype: float64"
      ]
     },
     "execution_count": 116,
     "metadata": {},
     "output_type": "execute_result"
    }
   ],
   "source": [
    "# Verificando quantidade de null após modificação.\n",
    "\n",
    "(df.isnull().sum() / df.shape[0])*100"
   ]
  },
  {
   "cell_type": "code",
   "execution_count": 117,
   "metadata": {
    "colab": {
     "base_uri": "https://localhost:8080/"
    },
    "id": "1nNnYi8VRWWV",
    "outputId": "abd674a7-0eca-408f-d5d5-d36be5eaf19f"
   },
   "outputs": [
    {
     "name": "stdout",
     "output_type": "stream",
     "text": [
      "<class 'pandas.core.frame.DataFrame'>\n",
      "Int64Index: 831 entries, 0 to 997\n",
      "Data columns (total 14 columns):\n",
      " #   Column         Non-Null Count  Dtype  \n",
      "---  ------         --------------  -----  \n",
      " 0   Series_Title   831 non-null    object \n",
      " 1   Released_Year  831 non-null    int64  \n",
      " 2   Certificate    785 non-null    object \n",
      " 3   Runtime        831 non-null    int32  \n",
      " 4   Genre          831 non-null    object \n",
      " 5   IMDB_Rating    831 non-null    float64\n",
      " 6   Meta_score     750 non-null    float64\n",
      " 7   Director       831 non-null    object \n",
      " 8   Star1          831 non-null    object \n",
      " 9   Star2          831 non-null    object \n",
      " 10  Star3          831 non-null    object \n",
      " 11  Star4          831 non-null    object \n",
      " 12  No_of_Votes    831 non-null    int64  \n",
      " 13  Gross          831 non-null    float64\n",
      "dtypes: float64(3), int32(1), int64(2), object(8)\n",
      "memory usage: 94.1+ KB\n"
     ]
    }
   ],
   "source": [
    "# Verificando quantidade de null após modificação.\n",
    "\n",
    "df.info()"
   ]
  },
  {
   "cell_type": "code",
   "execution_count": 118,
   "metadata": {
    "id": "Ja9ORbCNRWZg"
   },
   "outputs": [],
   "source": [
    "# Tipos alterados e NaN removido de 'Gross' (variável alvo).\n",
    "# Caso seja necessário mais alguma alteração, cada analista avalia e justifica."
   ]
  },
  {
   "cell_type": "markdown",
   "metadata": {
    "id": "WZX4XoB1NSPF"
   },
   "source": [
    "# Kleiton"
   ]
  },
  {
   "cell_type": "code",
   "execution_count": 119,
   "metadata": {
    "colab": {
     "base_uri": "https://localhost:8080/",
     "height": 394
    },
    "id": "iF7UOqxRRwpj",
    "outputId": "b8ccba08-e951-47b3-fe0b-298bf92e5250"
   },
   "outputs": [
    {
     "data": {
      "text/html": [
       "<div>\n",
       "<style scoped>\n",
       "    .dataframe tbody tr th:only-of-type {\n",
       "        vertical-align: middle;\n",
       "    }\n",
       "\n",
       "    .dataframe tbody tr th {\n",
       "        vertical-align: top;\n",
       "    }\n",
       "\n",
       "    .dataframe thead th {\n",
       "        text-align: right;\n",
       "    }\n",
       "</style>\n",
       "<table border=\"1\" class=\"dataframe\">\n",
       "  <thead>\n",
       "    <tr style=\"text-align: right;\">\n",
       "      <th></th>\n",
       "      <th>Gross</th>\n",
       "    </tr>\n",
       "    <tr>\n",
       "      <th>Director</th>\n",
       "      <th></th>\n",
       "    </tr>\n",
       "  </thead>\n",
       "  <tbody>\n",
       "    <tr>\n",
       "      <th>Steven Spielberg</th>\n",
       "      <td>2.478133e+09</td>\n",
       "    </tr>\n",
       "    <tr>\n",
       "      <th>Anthony Russo</th>\n",
       "      <td>2.205039e+09</td>\n",
       "    </tr>\n",
       "    <tr>\n",
       "      <th>Christopher Nolan</th>\n",
       "      <td>1.937454e+09</td>\n",
       "    </tr>\n",
       "    <tr>\n",
       "      <th>James Cameron</th>\n",
       "      <td>1.748237e+09</td>\n",
       "    </tr>\n",
       "    <tr>\n",
       "      <th>Peter Jackson</th>\n",
       "      <td>1.597312e+09</td>\n",
       "    </tr>\n",
       "    <tr>\n",
       "      <th>J.J. Abrams</th>\n",
       "      <td>1.423171e+09</td>\n",
       "    </tr>\n",
       "    <tr>\n",
       "      <th>Brad Bird</th>\n",
       "      <td>1.099628e+09</td>\n",
       "    </tr>\n",
       "    <tr>\n",
       "      <th>Robert Zemeckis</th>\n",
       "      <td>1.049446e+09</td>\n",
       "    </tr>\n",
       "    <tr>\n",
       "      <th>David Yates</th>\n",
       "      <td>9.789537e+08</td>\n",
       "    </tr>\n",
       "    <tr>\n",
       "      <th>Pete Docter</th>\n",
       "      <td>9.393821e+08</td>\n",
       "    </tr>\n",
       "  </tbody>\n",
       "</table>\n",
       "</div>"
      ],
      "text/plain": [
       "                          Gross\n",
       "Director                       \n",
       "Steven Spielberg   2.478133e+09\n",
       "Anthony Russo      2.205039e+09\n",
       "Christopher Nolan  1.937454e+09\n",
       "James Cameron      1.748237e+09\n",
       "Peter Jackson      1.597312e+09\n",
       "J.J. Abrams        1.423171e+09\n",
       "Brad Bird          1.099628e+09\n",
       "Robert Zemeckis    1.049446e+09\n",
       "David Yates        9.789537e+08\n",
       "Pete Docter        9.393821e+08"
      ]
     },
     "execution_count": 119,
     "metadata": {},
     "output_type": "execute_result"
    }
   ],
   "source": [
    "df.groupby(['Director'])['Gross'].sum().to_frame().sort_values('Gross',ascending=False).head(10)"
   ]
  },
  {
   "cell_type": "code",
   "execution_count": 120,
   "metadata": {
    "colab": {
     "base_uri": "https://localhost:8080/",
     "height": 388
    },
    "id": "6X2ta_4RHYyp",
    "outputId": "881f1400-360b-4e03-929b-5a7407ec3b3e"
   },
   "outputs": [
    {
     "data": {
      "text/plain": [
       "<AxesSubplot:xlabel='Director', ylabel='Gross'>"
      ]
     },
     "execution_count": 120,
     "metadata": {},
     "output_type": "execute_result"
    },
    {
     "data": {
      "image/png": "[encoded data removed]",
      "text/plain": [
       "<Figure size 1080x288 with 1 Axes>"
      ]
     },
     "metadata": {
      "needs_background": "light"
     },
     "output_type": "display_data"
    }
   ],
   "source": [
    "rcParams['figure.figsize'] = 15,4\n",
    "plt.xticks(rotation=90)\n",
    "sns.barplot(data= df.groupby(['Director'])['Gross'].sum().to_frame().sort_values('Gross',ascending=False).head(10).reset_index(),\n",
    "            x='Director',y='Gross',palette=sns.color_palette(\"Set2\"))"
   ]
  },
  {
   "cell_type": "code",
   "execution_count": 121,
   "metadata": {
    "colab": {
     "base_uri": "https://localhost:8080/",
     "height": 308
    },
    "id": "6wBo1bgZRwna",
    "outputId": "ff874fb1-c609-410c-c198-84c06ce66520"
   },
   "outputs": [
    {
     "data": {
      "text/plain": [
       "<AxesSubplot:xlabel='Released_Year', ylabel='Gross'>"
      ]
     },
     "execution_count": 121,
     "metadata": {},
     "output_type": "execute_result"
    },
    {
     "data": {
      "image/png": "[encoded data removed]",
      "text/plain": [
       "<Figure size 1080x288 with 1 Axes>"
      ]
     },
     "metadata": {
      "needs_background": "light"
     },
     "output_type": "display_data"
    }
   ],
   "source": [
    "directors = df.groupby(['Director'])['Gross'].sum().to_frame().sort_values('Gross',ascending=False).head(10).reset_index()['Director'].to_list()\n",
    "\n",
    "dby = df[(df['Director'].isin(directors)) & (df['Released_Year'] >=2013)].copy()\n",
    "\n",
    "sns.color_palette(\"Set2\")\n",
    "rcParams['figure.figsize'] = 15,4\n",
    "sns.barplot(data = dby, x='Released_Year',y='Gross',hue='Director',palette=sns.color_palette(\"Set2\"))\n",
    "#df.groupby(['Released_Year','Director'])['Gross'].sum().to_frame().sort_values('Gross',ascending=False).head(10)"
   ]
  },
  {
   "cell_type": "code",
   "execution_count": 122,
   "metadata": {
    "colab": {
     "base_uri": "https://localhost:8080/",
     "height": 263
    },
    "id": "YTGh1ktZRwk7",
    "outputId": "5849bb1e-fdd9-4a6d-9266-83baf5fe42b3"
   },
   "outputs": [
    {
     "data": {
      "text/html": [
       "<div>\n",
       "<style scoped>\n",
       "    .dataframe tbody tr th:only-of-type {\n",
       "        vertical-align: middle;\n",
       "    }\n",
       "\n",
       "    .dataframe tbody tr th {\n",
       "        vertical-align: top;\n",
       "    }\n",
       "\n",
       "    .dataframe thead th {\n",
       "        text-align: right;\n",
       "    }\n",
       "</style>\n",
       "<table border=\"1\" class=\"dataframe\">\n",
       "  <thead>\n",
       "    <tr style=\"text-align: right;\">\n",
       "      <th></th>\n",
       "      <th>Series_Title</th>\n",
       "      <th>Released_Year</th>\n",
       "      <th>Certificate</th>\n",
       "      <th>Runtime</th>\n",
       "      <th>Genre</th>\n",
       "      <th>IMDB_Rating</th>\n",
       "      <th>Meta_score</th>\n",
       "      <th>Director</th>\n",
       "      <th>Star1</th>\n",
       "      <th>Star2</th>\n",
       "      <th>Star3</th>\n",
       "      <th>Star4</th>\n",
       "      <th>No_of_Votes</th>\n",
       "      <th>Gross</th>\n",
       "    </tr>\n",
       "  </thead>\n",
       "  <tbody>\n",
       "    <tr>\n",
       "      <th>477</th>\n",
       "      <td>Star Wars: Episode VII - The Force Awakens</td>\n",
       "      <td>2015</td>\n",
       "      <td>U</td>\n",
       "      <td>138</td>\n",
       "      <td>Action, Adventure, Sci-Fi</td>\n",
       "      <td>7.9</td>\n",
       "      <td>80.0</td>\n",
       "      <td>J.J. Abrams</td>\n",
       "      <td>Daisy Ridley</td>\n",
       "      <td>John Boyega</td>\n",
       "      <td>Oscar Isaac</td>\n",
       "      <td>Domhnall Gleeson</td>\n",
       "      <td>860823</td>\n",
       "      <td>936662225.0</td>\n",
       "    </tr>\n",
       "    <tr>\n",
       "      <th>746</th>\n",
       "      <td>Star Trek Into Darkness</td>\n",
       "      <td>2013</td>\n",
       "      <td>UA</td>\n",
       "      <td>132</td>\n",
       "      <td>Action, Adventure, Sci-Fi</td>\n",
       "      <td>7.7</td>\n",
       "      <td>72.0</td>\n",
       "      <td>J.J. Abrams</td>\n",
       "      <td>Chris Pine</td>\n",
       "      <td>Zachary Quinto</td>\n",
       "      <td>Zoe Saldana</td>\n",
       "      <td>Benedict Cumberbatch</td>\n",
       "      <td>463188</td>\n",
       "      <td>228778661.0</td>\n",
       "    </tr>\n",
       "  </tbody>\n",
       "</table>\n",
       "</div>"
      ],
      "text/plain": [
       "                                   Series_Title  Released_Year Certificate  \\\n",
       "477  Star Wars: Episode VII - The Force Awakens           2015           U   \n",
       "746                     Star Trek Into Darkness           2013          UA   \n",
       "\n",
       "     Runtime                      Genre  IMDB_Rating  Meta_score     Director  \\\n",
       "477      138  Action, Adventure, Sci-Fi          7.9        80.0  J.J. Abrams   \n",
       "746      132  Action, Adventure, Sci-Fi          7.7        72.0  J.J. Abrams   \n",
       "\n",
       "            Star1           Star2        Star3                 Star4  \\\n",
       "477  Daisy Ridley     John Boyega  Oscar Isaac      Domhnall Gleeson   \n",
       "746    Chris Pine  Zachary Quinto  Zoe Saldana  Benedict Cumberbatch   \n",
       "\n",
       "     No_of_Votes        Gross  \n",
       "477       860823  936662225.0  \n",
       "746       463188  228778661.0  "
      ]
     },
     "execution_count": 122,
     "metadata": {},
     "output_type": "execute_result"
    }
   ],
   "source": [
    "#Pesquisar filmes de J.J. Abrams\n",
    "\n",
    "df[(df['Director'] == 'J.J. Abrams')&(df['Released_Year']>=2013)]"
   ]
  },
  {
   "cell_type": "code",
   "execution_count": 123,
   "metadata": {
    "colab": {
     "base_uri": "https://localhost:8080/",
     "height": 378
    },
    "id": "HgovLwYAK7rM",
    "outputId": "f42a922a-7654-4d94-d5c6-f9a5202eef11"
   },
   "outputs": [
    {
     "data": {
      "text/html": [
       "<div>\n",
       "<style scoped>\n",
       "    .dataframe tbody tr th:only-of-type {\n",
       "        vertical-align: middle;\n",
       "    }\n",
       "\n",
       "    .dataframe tbody tr th {\n",
       "        vertical-align: top;\n",
       "    }\n",
       "\n",
       "    .dataframe thead th {\n",
       "        text-align: right;\n",
       "    }\n",
       "</style>\n",
       "<table border=\"1\" class=\"dataframe\">\n",
       "  <thead>\n",
       "    <tr style=\"text-align: right;\">\n",
       "      <th></th>\n",
       "      <th>Series_Title</th>\n",
       "      <th>Released_Year</th>\n",
       "      <th>Certificate</th>\n",
       "      <th>Runtime</th>\n",
       "      <th>Genre</th>\n",
       "      <th>IMDB_Rating</th>\n",
       "      <th>Meta_score</th>\n",
       "      <th>Director</th>\n",
       "      <th>Star1</th>\n",
       "      <th>Star2</th>\n",
       "      <th>Star3</th>\n",
       "      <th>Star4</th>\n",
       "      <th>No_of_Votes</th>\n",
       "      <th>Gross</th>\n",
       "    </tr>\n",
       "  </thead>\n",
       "  <tbody>\n",
       "    <tr>\n",
       "      <th>59</th>\n",
       "      <td>Avengers: Endgame</td>\n",
       "      <td>2019</td>\n",
       "      <td>UA</td>\n",
       "      <td>181</td>\n",
       "      <td>Action, Adventure, Drama</td>\n",
       "      <td>8.4</td>\n",
       "      <td>78.0</td>\n",
       "      <td>Anthony Russo</td>\n",
       "      <td>Joe Russo</td>\n",
       "      <td>Robert Downey Jr.</td>\n",
       "      <td>Chris Evans</td>\n",
       "      <td>Mark Ruffalo</td>\n",
       "      <td>809955</td>\n",
       "      <td>858373000.0</td>\n",
       "    </tr>\n",
       "    <tr>\n",
       "      <th>60</th>\n",
       "      <td>Avengers: Infinity War</td>\n",
       "      <td>2018</td>\n",
       "      <td>UA</td>\n",
       "      <td>149</td>\n",
       "      <td>Action, Adventure, Sci-Fi</td>\n",
       "      <td>8.4</td>\n",
       "      <td>68.0</td>\n",
       "      <td>Anthony Russo</td>\n",
       "      <td>Joe Russo</td>\n",
       "      <td>Robert Downey Jr.</td>\n",
       "      <td>Chris Hemsworth</td>\n",
       "      <td>Mark Ruffalo</td>\n",
       "      <td>834477</td>\n",
       "      <td>678815482.0</td>\n",
       "    </tr>\n",
       "    <tr>\n",
       "      <th>583</th>\n",
       "      <td>Captain America: Civil War</td>\n",
       "      <td>2016</td>\n",
       "      <td>UA</td>\n",
       "      <td>147</td>\n",
       "      <td>Action, Adventure, Sci-Fi</td>\n",
       "      <td>7.8</td>\n",
       "      <td>75.0</td>\n",
       "      <td>Anthony Russo</td>\n",
       "      <td>Joe Russo</td>\n",
       "      <td>Chris Evans</td>\n",
       "      <td>Robert Downey Jr.</td>\n",
       "      <td>Scarlett Johansson</td>\n",
       "      <td>663649</td>\n",
       "      <td>408084349.0</td>\n",
       "    </tr>\n",
       "    <tr>\n",
       "      <th>737</th>\n",
       "      <td>Captain America: The Winter Soldier</td>\n",
       "      <td>2014</td>\n",
       "      <td>UA</td>\n",
       "      <td>136</td>\n",
       "      <td>Action, Adventure, Sci-Fi</td>\n",
       "      <td>7.7</td>\n",
       "      <td>70.0</td>\n",
       "      <td>Anthony Russo</td>\n",
       "      <td>Joe Russo</td>\n",
       "      <td>Chris Evans</td>\n",
       "      <td>Samuel L. Jackson</td>\n",
       "      <td>Scarlett Johansson</td>\n",
       "      <td>736182</td>\n",
       "      <td>259766572.0</td>\n",
       "    </tr>\n",
       "  </tbody>\n",
       "</table>\n",
       "</div>"
      ],
      "text/plain": [
       "                            Series_Title  Released_Year Certificate  Runtime  \\\n",
       "59                     Avengers: Endgame           2019          UA      181   \n",
       "60                Avengers: Infinity War           2018          UA      149   \n",
       "583           Captain America: Civil War           2016          UA      147   \n",
       "737  Captain America: The Winter Soldier           2014          UA      136   \n",
       "\n",
       "                         Genre  IMDB_Rating  Meta_score       Director  \\\n",
       "59    Action, Adventure, Drama          8.4        78.0  Anthony Russo   \n",
       "60   Action, Adventure, Sci-Fi          8.4        68.0  Anthony Russo   \n",
       "583  Action, Adventure, Sci-Fi          7.8        75.0  Anthony Russo   \n",
       "737  Action, Adventure, Sci-Fi          7.7        70.0  Anthony Russo   \n",
       "\n",
       "         Star1              Star2              Star3               Star4  \\\n",
       "59   Joe Russo  Robert Downey Jr.        Chris Evans        Mark Ruffalo   \n",
       "60   Joe Russo  Robert Downey Jr.    Chris Hemsworth        Mark Ruffalo   \n",
       "583  Joe Russo        Chris Evans  Robert Downey Jr.  Scarlett Johansson   \n",
       "737  Joe Russo        Chris Evans  Samuel L. Jackson  Scarlett Johansson   \n",
       "\n",
       "     No_of_Votes        Gross  \n",
       "59        809955  858373000.0  \n",
       "60        834477  678815482.0  \n",
       "583       663649  408084349.0  \n",
       "737       736182  259766572.0  "
      ]
     },
     "execution_count": 123,
     "metadata": {},
     "output_type": "execute_result"
    }
   ],
   "source": [
    "#Pesquisar filmes de J.J. Abrams\n",
    "\n",
    "df[(df['Director'] == 'Anthony Russo')&(df['Released_Year']>=2013)]"
   ]
  },
  {
   "cell_type": "markdown",
   "metadata": {
    "id": "WBJ1Uo7YuwML"
   },
   "source": [
    "# Wendrik"
   ]
  },
  {
   "cell_type": "code",
   "execution_count": 124,
   "metadata": {
    "id": "tFy2XzsDRwi0"
   },
   "outputs": [],
   "source": [
    "#Substituir NaN pela mediana no Meta_score\n",
    "df[\"Meta_score\"] = df[\"Meta_score\"].replace(np.nan, df['Meta_score'].median())"
   ]
  },
  {
   "cell_type": "code",
   "execution_count": 125,
   "metadata": {
    "colab": {
     "base_uri": "https://localhost:8080/"
    },
    "id": "iWXjgn6mFqzf",
    "outputId": "4fae196a-ac11-46dc-deaf-94517c1cc5ee"
   },
   "outputs": [
    {
     "name": "stdout",
     "output_type": "stream",
     "text": [
      "                        Gross\n",
      "faixa_avaliacao              \n",
      "7.5-7.8          6.385709e+07\n",
      "7.8-8.1          6.776493e+07\n",
      "8.1-8.4          4.960351e+07\n",
      "8.4-8.7          1.140663e+08\n",
      "8.7-9.0          1.944246e+08\n",
      "9.0-9,3          1.519653e+08\n"
     ]
    }
   ],
   "source": [
    "#Dividir em intervalos e analisar a media de arrecadação do IMDB\n",
    "df['faixa_avaliacao'] = np.nan\n",
    "df.loc[(pd.to_numeric(df['IMDB_Rating'])>=7.5) & (pd.to_numeric(df['IMDB_Rating'])<7.8),'faixa_avaliacao'] = '7.5-7.8'\n",
    "df.loc[(pd.to_numeric(df['IMDB_Rating'])>=7.8) & (pd.to_numeric(df['IMDB_Rating'])<8.1),'faixa_avaliacao'] = '7.8-8.1'\n",
    "df.loc[(pd.to_numeric(df['IMDB_Rating'])>=8.1) & (pd.to_numeric(df['IMDB_Rating'])<8.4),'faixa_avaliacao'] = '8.1-8.4'\n",
    "df.loc[(pd.to_numeric(df['IMDB_Rating'])>=8.4) & (pd.to_numeric(df['IMDB_Rating'])<8.7),'faixa_avaliacao'] = '8.4-8.7'\n",
    "df.loc[(pd.to_numeric(df['IMDB_Rating'])>=8.7) & (pd.to_numeric(df['IMDB_Rating'])<9),'faixa_avaliacao'] = '8.7-9.0'\n",
    "df.loc[(pd.to_numeric(df['IMDB_Rating'])>=9.0),'faixa_avaliacao'] = '9.0-9,3'\n",
    "\n",
    "print(df.pivot_table(index='faixa_avaliacao', values='Gross', aggfunc='mean'))"
   ]
  },
  {
   "cell_type": "code",
   "execution_count": 126,
   "metadata": {
    "colab": {
     "base_uri": "https://localhost:8080/",
     "height": 334
    },
    "id": "Ns6YJSOpdlm7",
    "outputId": "59747188-7bc9-4de4-84a1-55dcf54be891"
   },
   "outputs": [
    {
     "data": {
      "text/plain": [
       "<AxesSubplot:xlabel='faixa_avaliacao'>"
      ]
     },
     "execution_count": 126,
     "metadata": {},
     "output_type": "execute_result"
    },
    {
     "data": {
      "image/png": "[encoded data removed]",
      "text/plain": [
       "<Figure size 1080x288 with 1 Axes>"
      ]
     },
     "metadata": {
      "needs_background": "light"
     },
     "output_type": "display_data"
    }
   ],
   "source": [
    "#Analise grafica da informação anterior\n",
    "pd.pivot_table(df,values='Gross',index=['faixa_avaliacao'],aggfunc='mean').plot(kind='bar')"
   ]
  },
  {
   "cell_type": "code",
   "execution_count": 127,
   "metadata": {
    "colab": {
     "base_uri": "https://localhost:8080/"
    },
    "id": "vAGo3dcRGnXu",
    "outputId": "675429a1-2444-47ad-c72a-a3554e79c324"
   },
   "outputs": [
    {
     "name": "stdout",
     "output_type": "stream",
     "text": [
      "                             Gross\n",
      "faixa_avaliacao_meta              \n",
      "25-37.5               4.205261e+07\n",
      "37.5-50               4.479350e+07\n",
      "50-62.5               6.186172e+07\n",
      "62.5-75               8.529539e+07\n",
      "75-87.5               6.495107e+07\n",
      "87.5-100              5.937442e+07\n"
     ]
    }
   ],
   "source": [
    "#Mesmo procedimento para o Meta_score\n",
    "df['faixa_avaliacao_meta'] = np.nan\n",
    "df.loc[(pd.to_numeric(df['Meta_score'])>=25) & (pd.to_numeric(df['Meta_score'])<37.5),'faixa_avaliacao_meta'] = '25-37.5'\n",
    "df.loc[(pd.to_numeric(df['Meta_score'])>=37.5) & (pd.to_numeric(df['Meta_score'])<50),'faixa_avaliacao_meta'] = '37.5-50'\n",
    "df.loc[(pd.to_numeric(df['Meta_score'])>=50) & (pd.to_numeric(df['Meta_score'])<62.5),'faixa_avaliacao_meta'] = '50-62.5'\n",
    "df.loc[(pd.to_numeric(df['Meta_score'])>=62.5) & (pd.to_numeric(df['Meta_score'])<75),'faixa_avaliacao_meta'] = '62.5-75'\n",
    "df.loc[(pd.to_numeric(df['Meta_score'])>=75) & (pd.to_numeric(df['Meta_score'])<87.5),'faixa_avaliacao_meta'] = '75-87.5'\n",
    "df.loc[(pd.to_numeric(df['Meta_score'])>=87.5),'faixa_avaliacao_meta'] = '87.5-100'\n",
    "\n",
    "print(df.pivot_table(index='faixa_avaliacao_meta', values='Gross', aggfunc='mean'))"
   ]
  },
  {
   "cell_type": "code",
   "execution_count": 128,
   "metadata": {
    "colab": {
     "base_uri": "https://localhost:8080/",
     "height": 343
    },
    "id": "5WJ82LuXd5VU",
    "outputId": "2175517c-f748-476a-f10f-a7c68c2f9293"
   },
   "outputs": [
    {
     "data": {
      "text/plain": [
       "<AxesSubplot:xlabel='faixa_avaliacao_meta'>"
      ]
     },
     "execution_count": 128,
     "metadata": {},
     "output_type": "execute_result"
    },
    {
     "data": {
      "image/png": "[encoded data removed]",
      "text/plain": [
       "<Figure size 1080x288 with 1 Axes>"
      ]
     },
     "metadata": {
      "needs_background": "light"
     },
     "output_type": "display_data"
    }
   ],
   "source": [
    "pd.pivot_table(df,values='Gross',index=['faixa_avaliacao_meta'],aggfunc='mean').plot(kind='bar')"
   ]
  },
  {
   "cell_type": "code",
   "execution_count": 129,
   "metadata": {
    "colab": {
     "base_uri": "https://localhost:8080/",
     "height": 280
    },
    "id": "8UzrQ233d9wc",
    "outputId": "f25ae64e-2cdf-47ed-a1ee-03d5db7f29f3"
   },
   "outputs": [
    {
     "data": {
      "image/png": "[encoded data removed]",
      "text/plain": [
       "<Figure size 1080x288 with 1 Axes>"
      ]
     },
     "metadata": {
      "needs_background": "light"
     },
     "output_type": "display_data"
    }
   ],
   "source": [
    "#Relação entre as duas variaveis \n",
    "df.plot(x = 'Meta_score', y = 'IMDB_Rating', xticks = [0, 100], kind=\"scatter\");"
   ]
  },
  {
   "cell_type": "markdown",
   "metadata": {
    "id": "eva4jm0_l1EU"
   },
   "source": [
    "# Henrique Inacio\n",
    "\n",
    "## Analise exploratoria tendo como base o ator Tom Hanks"
   ]
  },
  {
   "cell_type": "code",
   "execution_count": 130,
   "metadata": {
    "id": "GO1nXwg4coNF"
   },
   "outputs": [],
   "source": [
    "# Usarei o dataset sem a retirada dos valos NaN, pois nao interfere no trabalho\n",
    "\n",
    "df_full = pd.read_csv('data/imdb_top_1000.csv')\n",
    "\n",
    "# Retirada de variaveis sem relevancia\n",
    "\n",
    "columns = ['Poster_Link', 'Overview', 'No_of_Votes']#, 'Star']\n",
    "df_full = df_full.drop(columns, axis=1)\n",
    "\n",
    "# Alteracao da variavel Genre para conter somente o primeiro genero\n",
    "\n",
    "df_full['Genre'] = df_full['Genre'].str.split(', ', expand=True)[0]\n",
    "\n",
    "# Alteracao da variavel Runtime para retirar o min e tranformar em int\n",
    "\n",
    "df_full['Runtime'] = df_full['Runtime'].str.split(' ', expand=True)[0]\n",
    "df_full = df_full.astype({\"Runtime\":'int'})"
   ]
  },
  {
   "cell_type": "code",
   "execution_count": 131,
   "metadata": {
    "colab": {
     "base_uri": "https://localhost:8080/",
     "height": 695
    },
    "id": "zDlgLw6mnYdG",
    "outputId": "7270e029-439f-4260-feb8-e9a850600b75"
   },
   "outputs": [
    {
     "data": {
      "text/html": [
       "<div>\n",
       "<style scoped>\n",
       "    .dataframe tbody tr th:only-of-type {\n",
       "        vertical-align: middle;\n",
       "    }\n",
       "\n",
       "    .dataframe tbody tr th {\n",
       "        vertical-align: top;\n",
       "    }\n",
       "\n",
       "    .dataframe thead th {\n",
       "        text-align: right;\n",
       "    }\n",
       "</style>\n",
       "<table border=\"1\" class=\"dataframe\">\n",
       "  <thead>\n",
       "    <tr style=\"text-align: right;\">\n",
       "      <th></th>\n",
       "      <th>Series_Title</th>\n",
       "      <th>Released_Year</th>\n",
       "      <th>Certificate</th>\n",
       "      <th>Runtime</th>\n",
       "      <th>Genre</th>\n",
       "      <th>IMDB_Rating</th>\n",
       "      <th>Meta_score</th>\n",
       "      <th>Director</th>\n",
       "      <th>Star1</th>\n",
       "      <th>Star2</th>\n",
       "      <th>Star3</th>\n",
       "      <th>Star4</th>\n",
       "      <th>Gross</th>\n",
       "    </tr>\n",
       "  </thead>\n",
       "  <tbody>\n",
       "    <tr>\n",
       "      <th>11</th>\n",
       "      <td>Forrest Gump</td>\n",
       "      <td>1994</td>\n",
       "      <td>UA</td>\n",
       "      <td>142</td>\n",
       "      <td>Drama</td>\n",
       "      <td>8.8</td>\n",
       "      <td>82.0</td>\n",
       "      <td>Robert Zemeckis</td>\n",
       "      <td>Tom Hanks</td>\n",
       "      <td>Robin Wright</td>\n",
       "      <td>Gary Sinise</td>\n",
       "      <td>Sally Field</td>\n",
       "      <td>330,252,182</td>\n",
       "    </tr>\n",
       "    <tr>\n",
       "      <th>24</th>\n",
       "      <td>Saving Private Ryan</td>\n",
       "      <td>1998</td>\n",
       "      <td>R</td>\n",
       "      <td>169</td>\n",
       "      <td>Drama</td>\n",
       "      <td>8.6</td>\n",
       "      <td>91.0</td>\n",
       "      <td>Steven Spielberg</td>\n",
       "      <td>Tom Hanks</td>\n",
       "      <td>Matt Damon</td>\n",
       "      <td>Tom Sizemore</td>\n",
       "      <td>Edward Burns</td>\n",
       "      <td>216,540,909</td>\n",
       "    </tr>\n",
       "    <tr>\n",
       "      <th>25</th>\n",
       "      <td>The Green Mile</td>\n",
       "      <td>1999</td>\n",
       "      <td>A</td>\n",
       "      <td>189</td>\n",
       "      <td>Crime</td>\n",
       "      <td>8.6</td>\n",
       "      <td>61.0</td>\n",
       "      <td>Frank Darabont</td>\n",
       "      <td>Tom Hanks</td>\n",
       "      <td>Michael Clarke Duncan</td>\n",
       "      <td>David Morse</td>\n",
       "      <td>Bonnie Hunt</td>\n",
       "      <td>136,801,374</td>\n",
       "    </tr>\n",
       "    <tr>\n",
       "      <th>101</th>\n",
       "      <td>Toy Story</td>\n",
       "      <td>1995</td>\n",
       "      <td>U</td>\n",
       "      <td>81</td>\n",
       "      <td>Animation</td>\n",
       "      <td>8.3</td>\n",
       "      <td>95.0</td>\n",
       "      <td>John Lasseter</td>\n",
       "      <td>Tom Hanks</td>\n",
       "      <td>Tim Allen</td>\n",
       "      <td>Don Rickles</td>\n",
       "      <td>Jim Varney</td>\n",
       "      <td>191,796,233</td>\n",
       "    </tr>\n",
       "    <tr>\n",
       "      <th>151</th>\n",
       "      <td>Toy Story 3</td>\n",
       "      <td>2010</td>\n",
       "      <td>U</td>\n",
       "      <td>103</td>\n",
       "      <td>Animation</td>\n",
       "      <td>8.2</td>\n",
       "      <td>92.0</td>\n",
       "      <td>Lee Unkrich</td>\n",
       "      <td>Tom Hanks</td>\n",
       "      <td>Tim Allen</td>\n",
       "      <td>Joan Cusack</td>\n",
       "      <td>Ned Beatty</td>\n",
       "      <td>415,004,880</td>\n",
       "    </tr>\n",
       "    <tr>\n",
       "      <th>596</th>\n",
       "      <td>Toy Story 4</td>\n",
       "      <td>2019</td>\n",
       "      <td>U</td>\n",
       "      <td>100</td>\n",
       "      <td>Animation</td>\n",
       "      <td>7.8</td>\n",
       "      <td>84.0</td>\n",
       "      <td>Josh Cooley</td>\n",
       "      <td>Tom Hanks</td>\n",
       "      <td>Tim Allen</td>\n",
       "      <td>Annie Potts</td>\n",
       "      <td>Tony Hale</td>\n",
       "      <td>434,038,008</td>\n",
       "    </tr>\n",
       "    <tr>\n",
       "      <th>604</th>\n",
       "      <td>Captain Phillips</td>\n",
       "      <td>2013</td>\n",
       "      <td>UA</td>\n",
       "      <td>134</td>\n",
       "      <td>Adventure</td>\n",
       "      <td>7.8</td>\n",
       "      <td>82.0</td>\n",
       "      <td>Paul Greengrass</td>\n",
       "      <td>Tom Hanks</td>\n",
       "      <td>Barkhad Abdi</td>\n",
       "      <td>Barkhad Abdirahman</td>\n",
       "      <td>Catherine Keener</td>\n",
       "      <td>107,100,855</td>\n",
       "    </tr>\n",
       "    <tr>\n",
       "      <th>647</th>\n",
       "      <td>Cast Away</td>\n",
       "      <td>2000</td>\n",
       "      <td>UA</td>\n",
       "      <td>143</td>\n",
       "      <td>Adventure</td>\n",
       "      <td>7.8</td>\n",
       "      <td>73.0</td>\n",
       "      <td>Robert Zemeckis</td>\n",
       "      <td>Tom Hanks</td>\n",
       "      <td>Helen Hunt</td>\n",
       "      <td>Paul Sanchez</td>\n",
       "      <td>Lari White</td>\n",
       "      <td>233,632,142</td>\n",
       "    </tr>\n",
       "    <tr>\n",
       "      <th>791</th>\n",
       "      <td>Road to Perdition</td>\n",
       "      <td>2002</td>\n",
       "      <td>A</td>\n",
       "      <td>117</td>\n",
       "      <td>Crime</td>\n",
       "      <td>7.7</td>\n",
       "      <td>72.0</td>\n",
       "      <td>Sam Mendes</td>\n",
       "      <td>Tom Hanks</td>\n",
       "      <td>Tyler Hoechlin</td>\n",
       "      <td>Rob Maxey</td>\n",
       "      <td>Liam Aiken</td>\n",
       "      <td>104,454,762</td>\n",
       "    </tr>\n",
       "    <tr>\n",
       "      <th>818</th>\n",
       "      <td>Philadelphia</td>\n",
       "      <td>1993</td>\n",
       "      <td>UA</td>\n",
       "      <td>125</td>\n",
       "      <td>Drama</td>\n",
       "      <td>7.7</td>\n",
       "      <td>66.0</td>\n",
       "      <td>Jonathan Demme</td>\n",
       "      <td>Tom Hanks</td>\n",
       "      <td>Denzel Washington</td>\n",
       "      <td>Roberta Maxwell</td>\n",
       "      <td>Buzz Kilman</td>\n",
       "      <td>77,324,422</td>\n",
       "    </tr>\n",
       "    <tr>\n",
       "      <th>890</th>\n",
       "      <td>Bridge of Spies</td>\n",
       "      <td>2015</td>\n",
       "      <td>UA</td>\n",
       "      <td>142</td>\n",
       "      <td>Drama</td>\n",
       "      <td>7.6</td>\n",
       "      <td>81.0</td>\n",
       "      <td>Steven Spielberg</td>\n",
       "      <td>Tom Hanks</td>\n",
       "      <td>Mark Rylance</td>\n",
       "      <td>Alan Alda</td>\n",
       "      <td>Amy Ryan</td>\n",
       "      <td>72,313,754</td>\n",
       "    </tr>\n",
       "    <tr>\n",
       "      <th>966</th>\n",
       "      <td>Apollo 13</td>\n",
       "      <td>PG</td>\n",
       "      <td>U</td>\n",
       "      <td>140</td>\n",
       "      <td>Adventure</td>\n",
       "      <td>7.6</td>\n",
       "      <td>77.0</td>\n",
       "      <td>Ron Howard</td>\n",
       "      <td>Tom Hanks</td>\n",
       "      <td>Bill Paxton</td>\n",
       "      <td>Kevin Bacon</td>\n",
       "      <td>Gary Sinise</td>\n",
       "      <td>173,837,933</td>\n",
       "    </tr>\n",
       "  </tbody>\n",
       "</table>\n",
       "</div>"
      ],
      "text/plain": [
       "            Series_Title Released_Year Certificate  Runtime      Genre  \\\n",
       "11          Forrest Gump          1994          UA      142      Drama   \n",
       "24   Saving Private Ryan          1998           R      169      Drama   \n",
       "25        The Green Mile          1999           A      189      Crime   \n",
       "101            Toy Story          1995           U       81  Animation   \n",
       "151          Toy Story 3          2010           U      103  Animation   \n",
       "596          Toy Story 4          2019           U      100  Animation   \n",
       "604     Captain Phillips          2013          UA      134  Adventure   \n",
       "647            Cast Away          2000          UA      143  Adventure   \n",
       "791    Road to Perdition          2002           A      117      Crime   \n",
       "818         Philadelphia          1993          UA      125      Drama   \n",
       "890      Bridge of Spies          2015          UA      142      Drama   \n",
       "966            Apollo 13            PG           U      140  Adventure   \n",
       "\n",
       "     IMDB_Rating  Meta_score          Director      Star1  \\\n",
       "11           8.8        82.0   Robert Zemeckis  Tom Hanks   \n",
       "24           8.6        91.0  Steven Spielberg  Tom Hanks   \n",
       "25           8.6        61.0    Frank Darabont  Tom Hanks   \n",
       "101          8.3        95.0     John Lasseter  Tom Hanks   \n",
       "151          8.2        92.0       Lee Unkrich  Tom Hanks   \n",
       "596          7.8        84.0       Josh Cooley  Tom Hanks   \n",
       "604          7.8        82.0   Paul Greengrass  Tom Hanks   \n",
       "647          7.8        73.0   Robert Zemeckis  Tom Hanks   \n",
       "791          7.7        72.0        Sam Mendes  Tom Hanks   \n",
       "818          7.7        66.0    Jonathan Demme  Tom Hanks   \n",
       "890          7.6        81.0  Steven Spielberg  Tom Hanks   \n",
       "966          7.6        77.0        Ron Howard  Tom Hanks   \n",
       "\n",
       "                     Star2               Star3             Star4        Gross  \n",
       "11            Robin Wright         Gary Sinise       Sally Field  330,252,182  \n",
       "24              Matt Damon        Tom Sizemore      Edward Burns  216,540,909  \n",
       "25   Michael Clarke Duncan         David Morse       Bonnie Hunt  136,801,374  \n",
       "101              Tim Allen         Don Rickles        Jim Varney  191,796,233  \n",
       "151              Tim Allen         Joan Cusack        Ned Beatty  415,004,880  \n",
       "596              Tim Allen         Annie Potts         Tony Hale  434,038,008  \n",
       "604           Barkhad Abdi  Barkhad Abdirahman  Catherine Keener  107,100,855  \n",
       "647             Helen Hunt        Paul Sanchez        Lari White  233,632,142  \n",
       "791         Tyler Hoechlin           Rob Maxey        Liam Aiken  104,454,762  \n",
       "818      Denzel Washington     Roberta Maxwell       Buzz Kilman   77,324,422  \n",
       "890           Mark Rylance           Alan Alda          Amy Ryan   72,313,754  \n",
       "966            Bill Paxton         Kevin Bacon       Gary Sinise  173,837,933  "
      ]
     },
     "execution_count": 131,
     "metadata": {},
     "output_type": "execute_result"
    }
   ],
   "source": [
    "# Subset somente do ator Tom Hanks\n",
    "\n",
    "dfT = df_full.loc[df_full['Star1'] == 'Tom Hanks']\n",
    "dfT"
   ]
  },
  {
   "cell_type": "code",
   "execution_count": 132,
   "metadata": {
    "colab": {
     "base_uri": "https://localhost:8080/"
    },
    "id": "VdTsevQcnKZT",
    "outputId": "cce2b0cd-8ad6-4f47-d320-0208e8ca4439"
   },
   "outputs": [
    {
     "data": {
      "text/plain": [
       "Genre\n",
       "Adventure    3\n",
       "Animation    3\n",
       "Crime        2\n",
       "Drama        4\n",
       "dtype: int64"
      ]
     },
     "execution_count": 132,
     "metadata": {},
     "output_type": "execute_result"
    }
   ],
   "source": [
    "# Genero dos filmes que o ator atuou\n",
    "\n",
    "df_full[df_full['Star1'] == \"Tom Hanks\"].value_counts().groupby('Genre').count()"
   ]
  },
  {
   "cell_type": "code",
   "execution_count": 133,
   "metadata": {
    "colab": {
     "base_uri": "https://localhost:8080/",
     "height": 287
    },
    "id": "LfLlgGrfnlvB",
    "outputId": "b2ad36a5-7ce4-47b5-9c91-acf6b9caf63f"
   },
   "outputs": [
    {
     "data": {
      "text/plain": [
       "<AxesSubplot:>"
      ]
     },
     "execution_count": 133,
     "metadata": {},
     "output_type": "execute_result"
    },
    {
     "data": {
      "image/png": "[encoded data removed]",
      "text/plain": [
       "<Figure size 1080x288 with 2 Axes>"
      ]
     },
     "metadata": {
      "needs_background": "light"
     },
     "output_type": "display_data"
    }
   ],
   "source": [
    "# Tabela de correlacao\n",
    "dfCorr = dfT.corr()\n",
    "sns.heatmap(dfCorr, cmap = 'Blues', annot = True, fmt = '.2f')"
   ]
  },
  {
   "cell_type": "code",
   "execution_count": 134,
   "metadata": {
    "colab": {
     "base_uri": "https://localhost:8080/",
     "height": 551
    },
    "id": "7yXFwZjIntOE",
    "outputId": "4a67872e-2423-4df9-f0ec-5ff47ee8a61f"
   },
   "outputs": [
    {
     "data": {
      "text/html": [
       "<div>\n",
       "<style scoped>\n",
       "    .dataframe tbody tr th:only-of-type {\n",
       "        vertical-align: middle;\n",
       "    }\n",
       "\n",
       "    .dataframe tbody tr th {\n",
       "        vertical-align: top;\n",
       "    }\n",
       "\n",
       "    .dataframe thead th {\n",
       "        text-align: right;\n",
       "    }\n",
       "</style>\n",
       "<table border=\"1\" class=\"dataframe\">\n",
       "  <thead>\n",
       "    <tr style=\"text-align: right;\">\n",
       "      <th></th>\n",
       "      <th>IMDB_Rating</th>\n",
       "    </tr>\n",
       "    <tr>\n",
       "      <th>Star1</th>\n",
       "      <th></th>\n",
       "    </tr>\n",
       "  </thead>\n",
       "  <tbody>\n",
       "    <tr>\n",
       "      <th>Tim Robbins</th>\n",
       "      <td>9.300000</td>\n",
       "    </tr>\n",
       "    <tr>\n",
       "      <th>John Travolta</th>\n",
       "      <td>8.900000</td>\n",
       "    </tr>\n",
       "    <tr>\n",
       "      <th>Elijah Wood</th>\n",
       "      <td>8.800000</td>\n",
       "    </tr>\n",
       "    <tr>\n",
       "      <th>Lilly Wachowski</th>\n",
       "      <td>8.700000</td>\n",
       "    </tr>\n",
       "    <tr>\n",
       "      <th>Marlon Brando</th>\n",
       "      <td>8.650000</td>\n",
       "    </tr>\n",
       "    <tr>\n",
       "      <th>Suriya</th>\n",
       "      <td>8.600000</td>\n",
       "    </tr>\n",
       "    <tr>\n",
       "      <th>Lin-Manuel Miranda</th>\n",
       "      <td>8.600000</td>\n",
       "    </tr>\n",
       "    <tr>\n",
       "      <th>Kátia Lund</th>\n",
       "      <td>8.600000</td>\n",
       "    </tr>\n",
       "    <tr>\n",
       "      <th>Jodie Foster</th>\n",
       "      <td>8.600000</td>\n",
       "    </tr>\n",
       "    <tr>\n",
       "      <th>Roberto Benigni</th>\n",
       "      <td>8.600000</td>\n",
       "    </tr>\n",
       "    <tr>\n",
       "      <th>Daveigh Chase</th>\n",
       "      <td>8.600000</td>\n",
       "    </tr>\n",
       "    <tr>\n",
       "      <th>Mark Hamill</th>\n",
       "      <td>8.533333</td>\n",
       "    </tr>\n",
       "    <tr>\n",
       "      <th>Miles Teller</th>\n",
       "      <td>8.500000</td>\n",
       "    </tr>\n",
       "    <tr>\n",
       "      <th>Jean Reno</th>\n",
       "      <td>8.500000</td>\n",
       "    </tr>\n",
       "    <tr>\n",
       "      <th>Tsutomu Tatsumi</th>\n",
       "      <td>8.500000</td>\n",
       "    </tr>\n",
       "  </tbody>\n",
       "</table>\n",
       "</div>"
      ],
      "text/plain": [
       "                    IMDB_Rating\n",
       "Star1                          \n",
       "Tim Robbins            9.300000\n",
       "John Travolta          8.900000\n",
       "Elijah Wood            8.800000\n",
       "Lilly Wachowski        8.700000\n",
       "Marlon Brando          8.650000\n",
       "Suriya                 8.600000\n",
       "Lin-Manuel Miranda     8.600000\n",
       "Kátia Lund             8.600000\n",
       "Jodie Foster           8.600000\n",
       "Roberto Benigni        8.600000\n",
       "Daveigh Chase          8.600000\n",
       "Mark Hamill            8.533333\n",
       "Miles Teller           8.500000\n",
       "Jean Reno              8.500000\n",
       "Tsutomu Tatsumi        8.500000"
      ]
     },
     "execution_count": 134,
     "metadata": {},
     "output_type": "execute_result"
    }
   ],
   "source": [
    "# Media da avaliacao do IMDB dos atores\n",
    "\n",
    "df_full.groupby('Star1').agg({'IMDB_Rating':'mean'}).sort_values(by='IMDB_Rating', ascending=False)[:15]"
   ]
  },
  {
   "cell_type": "code",
   "execution_count": 135,
   "metadata": {
    "colab": {
     "base_uri": "https://localhost:8080/",
     "height": 551
    },
    "id": "fAYv-Lnkn4N4",
    "outputId": "63538c39-953a-43f4-b705-827f1adda1e1"
   },
   "outputs": [
    {
     "data": {
      "text/html": [
       "<div>\n",
       "<style scoped>\n",
       "    .dataframe tbody tr th:only-of-type {\n",
       "        vertical-align: middle;\n",
       "    }\n",
       "\n",
       "    .dataframe tbody tr th {\n",
       "        vertical-align: top;\n",
       "    }\n",
       "\n",
       "    .dataframe thead th {\n",
       "        text-align: right;\n",
       "    }\n",
       "</style>\n",
       "<table border=\"1\" class=\"dataframe\">\n",
       "  <thead>\n",
       "    <tr style=\"text-align: right;\">\n",
       "      <th></th>\n",
       "      <th>Runtime</th>\n",
       "    </tr>\n",
       "    <tr>\n",
       "      <th>Star1</th>\n",
       "      <th></th>\n",
       "    </tr>\n",
       "  </thead>\n",
       "  <tbody>\n",
       "    <tr>\n",
       "      <th>Robert De Niro</th>\n",
       "      <td>1686</td>\n",
       "    </tr>\n",
       "    <tr>\n",
       "      <th>Tom Hanks</th>\n",
       "      <td>1585</td>\n",
       "    </tr>\n",
       "    <tr>\n",
       "      <th>Al Pacino</th>\n",
       "      <td>1486</td>\n",
       "    </tr>\n",
       "    <tr>\n",
       "      <th>Leonardo DiCaprio</th>\n",
       "      <td>1412</td>\n",
       "    </tr>\n",
       "    <tr>\n",
       "      <th>Clint Eastwood</th>\n",
       "      <td>1266</td>\n",
       "    </tr>\n",
       "    <tr>\n",
       "      <th>Aamir Khan</th>\n",
       "      <td>1218</td>\n",
       "    </tr>\n",
       "    <tr>\n",
       "      <th>Christian Bale</th>\n",
       "      <td>1071</td>\n",
       "    </tr>\n",
       "    <tr>\n",
       "      <th>Denzel Washington</th>\n",
       "      <td>1015</td>\n",
       "    </tr>\n",
       "    <tr>\n",
       "      <th>James Stewart</th>\n",
       "      <td>967</td>\n",
       "    </tr>\n",
       "    <tr>\n",
       "      <th>Johnny Depp</th>\n",
       "      <td>962</td>\n",
       "    </tr>\n",
       "    <tr>\n",
       "      <th>Humphrey Bogart</th>\n",
       "      <td>954</td>\n",
       "    </tr>\n",
       "    <tr>\n",
       "      <th>Shah Rukh Khan</th>\n",
       "      <td>909</td>\n",
       "    </tr>\n",
       "    <tr>\n",
       "      <th>Toshirô Mifune</th>\n",
       "      <td>893</td>\n",
       "    </tr>\n",
       "    <tr>\n",
       "      <th>Tom Cruise</th>\n",
       "      <td>885</td>\n",
       "    </tr>\n",
       "    <tr>\n",
       "      <th>Daniel Radcliffe</th>\n",
       "      <td>880</td>\n",
       "    </tr>\n",
       "  </tbody>\n",
       "</table>\n",
       "</div>"
      ],
      "text/plain": [
       "                   Runtime\n",
       "Star1                     \n",
       "Robert De Niro        1686\n",
       "Tom Hanks             1585\n",
       "Al Pacino             1486\n",
       "Leonardo DiCaprio     1412\n",
       "Clint Eastwood        1266\n",
       "Aamir Khan            1218\n",
       "Christian Bale        1071\n",
       "Denzel Washington     1015\n",
       "James Stewart          967\n",
       "Johnny Depp            962\n",
       "Humphrey Bogart        954\n",
       "Shah Rukh Khan         909\n",
       "Toshirô Mifune         893\n",
       "Tom Cruise             885\n",
       "Daniel Radcliffe       880"
      ]
     },
     "execution_count": 135,
     "metadata": {},
     "output_type": "execute_result"
    }
   ],
   "source": [
    "# Soma da duracao dos filmes de cada ator\n",
    "\n",
    "df_full.groupby('Star1').agg({'Runtime':sum}).sort_values(by='Runtime', ascending=False)[:15]"
   ]
  },
  {
   "cell_type": "markdown",
   "metadata": {
    "id": "ArGtklIy7X2_"
   },
   "source": [
    "# Matheus Rocha\n",
    "\n",
    "### Análise exploratória com as colunas Genre e Certificate"
   ]
  },
  {
   "cell_type": "code",
   "execution_count": 136,
   "metadata": {
    "colab": {
     "base_uri": "https://localhost:8080/"
    },
    "id": "EDkLqWnZ7PLj",
    "outputId": "540c569e-0090-4ff5-9503-86a7a86e1fae"
   },
   "outputs": [
    {
     "name": "stdout",
     "output_type": "stream",
     "text": [
      "<class 'pandas.core.frame.DataFrame'>\n",
      "RangeIndex: 1000 entries, 0 to 999\n",
      "Data columns (total 14 columns):\n",
      " #   Column         Non-Null Count  Dtype  \n",
      "---  ------         --------------  -----  \n",
      " 0   Series_Title   1000 non-null   object \n",
      " 1   Released_Year  1000 non-null   object \n",
      " 2   Certificate    899 non-null    object \n",
      " 3   Runtime        1000 non-null   object \n",
      " 4   Genre          1000 non-null   object \n",
      " 5   IMDB_Rating    1000 non-null   float64\n",
      " 6   Meta_score     843 non-null    float64\n",
      " 7   Director       1000 non-null   object \n",
      " 8   Star1          1000 non-null   object \n",
      " 9   Star2          1000 non-null   object \n",
      " 10  Star3          1000 non-null   object \n",
      " 11  Star4          1000 non-null   object \n",
      " 12  No_of_Votes    1000 non-null   int64  \n",
      " 13  Gross          831 non-null    float64\n",
      "dtypes: float64(3), int64(1), object(10)\n",
      "memory usage: 109.5+ KB\n"
     ]
    }
   ],
   "source": [
    "# Uso do conjunto de dados por inteiro, pois as alterações feitas anteriormente influêciam a análise\n",
    "\n",
    "df = pd.read_csv(\"data/imdb_top_1000.csv\")\n",
    "df.drop([\"Poster_Link\", \"Overview\"], axis=1, inplace=True)\n",
    "df[\"Gross\"] = df.loc[~df[\"Gross\"].isnull(), \"Gross\"].apply(lambda x: x.replace(\",\", '')).astype(float)\n",
    "df.info()"
   ]
  },
  {
   "cell_type": "code",
   "execution_count": 137,
   "metadata": {
    "colab": {
     "base_uri": "https://localhost:8080/",
     "height": 783
    },
    "id": "xS3A0MXC7cML",
    "outputId": "54038509-fb48-4c5a-de62-17a6497b6c6d"
   },
   "outputs": [
    {
     "data": {
      "text/html": [
       "<div>\n",
       "<style scoped>\n",
       "    .dataframe tbody tr th:only-of-type {\n",
       "        vertical-align: middle;\n",
       "    }\n",
       "\n",
       "    .dataframe tbody tr th {\n",
       "        vertical-align: top;\n",
       "    }\n",
       "\n",
       "    .dataframe thead th {\n",
       "        text-align: right;\n",
       "    }\n",
       "</style>\n",
       "<table border=\"1\" class=\"dataframe\">\n",
       "  <thead>\n",
       "    <tr style=\"text-align: right;\">\n",
       "      <th></th>\n",
       "      <th>Series_Title</th>\n",
       "      <th>Released_Year</th>\n",
       "      <th>Certificate</th>\n",
       "      <th>Runtime</th>\n",
       "      <th>Genre</th>\n",
       "      <th>IMDB_Rating</th>\n",
       "      <th>Meta_score</th>\n",
       "      <th>Director</th>\n",
       "      <th>Star1</th>\n",
       "      <th>Star2</th>\n",
       "      <th>Star3</th>\n",
       "      <th>Star4</th>\n",
       "      <th>No_of_Votes</th>\n",
       "      <th>Gross</th>\n",
       "    </tr>\n",
       "  </thead>\n",
       "  <tbody>\n",
       "    <tr>\n",
       "      <th>18</th>\n",
       "      <td>Hamilton</td>\n",
       "      <td>2020</td>\n",
       "      <td>PG-13</td>\n",
       "      <td>160 min</td>\n",
       "      <td>Biography, Drama, History</td>\n",
       "      <td>8.6</td>\n",
       "      <td>90.0</td>\n",
       "      <td>Thomas Kail</td>\n",
       "      <td>Lin-Manuel Miranda</td>\n",
       "      <td>Phillipa Soo</td>\n",
       "      <td>Leslie Odom Jr.</td>\n",
       "      <td>Renée Elise Goldsberry</td>\n",
       "      <td>55291</td>\n",
       "      <td>NaN</td>\n",
       "    </tr>\n",
       "    <tr>\n",
       "      <th>20</th>\n",
       "      <td>Soorarai Pottru</td>\n",
       "      <td>2020</td>\n",
       "      <td>U</td>\n",
       "      <td>153 min</td>\n",
       "      <td>Drama</td>\n",
       "      <td>8.6</td>\n",
       "      <td>NaN</td>\n",
       "      <td>Sudha Kongara</td>\n",
       "      <td>Suriya</td>\n",
       "      <td>Madhavan</td>\n",
       "      <td>Paresh Rawal</td>\n",
       "      <td>Aparna Balamurali</td>\n",
       "      <td>54995</td>\n",
       "      <td>NaN</td>\n",
       "    </tr>\n",
       "    <tr>\n",
       "      <th>30</th>\n",
       "      <td>Seppuku</td>\n",
       "      <td>1962</td>\n",
       "      <td>NaN</td>\n",
       "      <td>133 min</td>\n",
       "      <td>Action, Drama, Mystery</td>\n",
       "      <td>8.6</td>\n",
       "      <td>85.0</td>\n",
       "      <td>Masaki Kobayashi</td>\n",
       "      <td>Tatsuya Nakadai</td>\n",
       "      <td>Akira Ishihama</td>\n",
       "      <td>Shima Iwashita</td>\n",
       "      <td>Tetsurô Tanba</td>\n",
       "      <td>42004</td>\n",
       "      <td>NaN</td>\n",
       "    </tr>\n",
       "    <tr>\n",
       "      <th>32</th>\n",
       "      <td>It's a Wonderful Life</td>\n",
       "      <td>1946</td>\n",
       "      <td>PG</td>\n",
       "      <td>130 min</td>\n",
       "      <td>Drama, Family, Fantasy</td>\n",
       "      <td>8.6</td>\n",
       "      <td>89.0</td>\n",
       "      <td>Frank Capra</td>\n",
       "      <td>James Stewart</td>\n",
       "      <td>Donna Reed</td>\n",
       "      <td>Lionel Barrymore</td>\n",
       "      <td>Thomas Mitchell</td>\n",
       "      <td>405801</td>\n",
       "      <td>NaN</td>\n",
       "    </tr>\n",
       "    <tr>\n",
       "      <th>46</th>\n",
       "      <td>Hotaru no haka</td>\n",
       "      <td>1988</td>\n",
       "      <td>U</td>\n",
       "      <td>89 min</td>\n",
       "      <td>Animation, Drama, War</td>\n",
       "      <td>8.5</td>\n",
       "      <td>94.0</td>\n",
       "      <td>Isao Takahata</td>\n",
       "      <td>Tsutomu Tatsumi</td>\n",
       "      <td>Ayano Shiraishi</td>\n",
       "      <td>Akemi Yamaguchi</td>\n",
       "      <td>Yoshiko Shinohara</td>\n",
       "      <td>235231</td>\n",
       "      <td>NaN</td>\n",
       "    </tr>\n",
       "    <tr>\n",
       "      <th>...</th>\n",
       "      <td>...</td>\n",
       "      <td>...</td>\n",
       "      <td>...</td>\n",
       "      <td>...</td>\n",
       "      <td>...</td>\n",
       "      <td>...</td>\n",
       "      <td>...</td>\n",
       "      <td>...</td>\n",
       "      <td>...</td>\n",
       "      <td>...</td>\n",
       "      <td>...</td>\n",
       "      <td>...</td>\n",
       "      <td>...</td>\n",
       "      <td>...</td>\n",
       "    </tr>\n",
       "    <tr>\n",
       "      <th>993</th>\n",
       "      <td>Blowup</td>\n",
       "      <td>1966</td>\n",
       "      <td>A</td>\n",
       "      <td>111 min</td>\n",
       "      <td>Drama, Mystery, Thriller</td>\n",
       "      <td>7.6</td>\n",
       "      <td>82.0</td>\n",
       "      <td>Michelangelo Antonioni</td>\n",
       "      <td>David Hemmings</td>\n",
       "      <td>Vanessa Redgrave</td>\n",
       "      <td>Sarah Miles</td>\n",
       "      <td>John Castle</td>\n",
       "      <td>56513</td>\n",
       "      <td>NaN</td>\n",
       "    </tr>\n",
       "    <tr>\n",
       "      <th>995</th>\n",
       "      <td>Breakfast at Tiffany's</td>\n",
       "      <td>1961</td>\n",
       "      <td>A</td>\n",
       "      <td>115 min</td>\n",
       "      <td>Comedy, Drama, Romance</td>\n",
       "      <td>7.6</td>\n",
       "      <td>76.0</td>\n",
       "      <td>Blake Edwards</td>\n",
       "      <td>Audrey Hepburn</td>\n",
       "      <td>George Peppard</td>\n",
       "      <td>Patricia Neal</td>\n",
       "      <td>Buddy Ebsen</td>\n",
       "      <td>166544</td>\n",
       "      <td>NaN</td>\n",
       "    </tr>\n",
       "    <tr>\n",
       "      <th>996</th>\n",
       "      <td>Giant</td>\n",
       "      <td>1956</td>\n",
       "      <td>G</td>\n",
       "      <td>201 min</td>\n",
       "      <td>Drama, Western</td>\n",
       "      <td>7.6</td>\n",
       "      <td>84.0</td>\n",
       "      <td>George Stevens</td>\n",
       "      <td>Elizabeth Taylor</td>\n",
       "      <td>Rock Hudson</td>\n",
       "      <td>James Dean</td>\n",
       "      <td>Carroll Baker</td>\n",
       "      <td>34075</td>\n",
       "      <td>NaN</td>\n",
       "    </tr>\n",
       "    <tr>\n",
       "      <th>998</th>\n",
       "      <td>Lifeboat</td>\n",
       "      <td>1944</td>\n",
       "      <td>NaN</td>\n",
       "      <td>97 min</td>\n",
       "      <td>Drama, War</td>\n",
       "      <td>7.6</td>\n",
       "      <td>78.0</td>\n",
       "      <td>Alfred Hitchcock</td>\n",
       "      <td>Tallulah Bankhead</td>\n",
       "      <td>John Hodiak</td>\n",
       "      <td>Walter Slezak</td>\n",
       "      <td>William Bendix</td>\n",
       "      <td>26471</td>\n",
       "      <td>NaN</td>\n",
       "    </tr>\n",
       "    <tr>\n",
       "      <th>999</th>\n",
       "      <td>The 39 Steps</td>\n",
       "      <td>1935</td>\n",
       "      <td>NaN</td>\n",
       "      <td>86 min</td>\n",
       "      <td>Crime, Mystery, Thriller</td>\n",
       "      <td>7.6</td>\n",
       "      <td>93.0</td>\n",
       "      <td>Alfred Hitchcock</td>\n",
       "      <td>Robert Donat</td>\n",
       "      <td>Madeleine Carroll</td>\n",
       "      <td>Lucie Mannheim</td>\n",
       "      <td>Godfrey Tearle</td>\n",
       "      <td>51853</td>\n",
       "      <td>NaN</td>\n",
       "    </tr>\n",
       "  </tbody>\n",
       "</table>\n",
       "<p>286 rows × 14 columns</p>\n",
       "</div>"
      ],
      "text/plain": [
       "               Series_Title Released_Year Certificate  Runtime  \\\n",
       "18                 Hamilton          2020       PG-13  160 min   \n",
       "20          Soorarai Pottru          2020           U  153 min   \n",
       "30                  Seppuku          1962         NaN  133 min   \n",
       "32    It's a Wonderful Life          1946          PG  130 min   \n",
       "46           Hotaru no haka          1988           U   89 min   \n",
       "..                      ...           ...         ...      ...   \n",
       "993                  Blowup          1966           A  111 min   \n",
       "995  Breakfast at Tiffany's          1961           A  115 min   \n",
       "996                   Giant          1956           G  201 min   \n",
       "998                Lifeboat          1944         NaN   97 min   \n",
       "999            The 39 Steps          1935         NaN   86 min   \n",
       "\n",
       "                         Genre  IMDB_Rating  Meta_score  \\\n",
       "18   Biography, Drama, History          8.6        90.0   \n",
       "20                       Drama          8.6         NaN   \n",
       "30      Action, Drama, Mystery          8.6        85.0   \n",
       "32      Drama, Family, Fantasy          8.6        89.0   \n",
       "46       Animation, Drama, War          8.5        94.0   \n",
       "..                         ...          ...         ...   \n",
       "993   Drama, Mystery, Thriller          7.6        82.0   \n",
       "995     Comedy, Drama, Romance          7.6        76.0   \n",
       "996             Drama, Western          7.6        84.0   \n",
       "998                 Drama, War          7.6        78.0   \n",
       "999   Crime, Mystery, Thriller          7.6        93.0   \n",
       "\n",
       "                   Director               Star1              Star2  \\\n",
       "18              Thomas Kail  Lin-Manuel Miranda       Phillipa Soo   \n",
       "20            Sudha Kongara              Suriya           Madhavan   \n",
       "30         Masaki Kobayashi     Tatsuya Nakadai     Akira Ishihama   \n",
       "32              Frank Capra       James Stewart         Donna Reed   \n",
       "46            Isao Takahata     Tsutomu Tatsumi    Ayano Shiraishi   \n",
       "..                      ...                 ...                ...   \n",
       "993  Michelangelo Antonioni      David Hemmings   Vanessa Redgrave   \n",
       "995           Blake Edwards      Audrey Hepburn     George Peppard   \n",
       "996          George Stevens    Elizabeth Taylor        Rock Hudson   \n",
       "998        Alfred Hitchcock   Tallulah Bankhead        John Hodiak   \n",
       "999        Alfred Hitchcock        Robert Donat  Madeleine Carroll   \n",
       "\n",
       "                Star3                   Star4  No_of_Votes  Gross  \n",
       "18    Leslie Odom Jr.  Renée Elise Goldsberry        55291    NaN  \n",
       "20       Paresh Rawal       Aparna Balamurali        54995    NaN  \n",
       "30     Shima Iwashita           Tetsurô Tanba        42004    NaN  \n",
       "32   Lionel Barrymore         Thomas Mitchell       405801    NaN  \n",
       "46    Akemi Yamaguchi       Yoshiko Shinohara       235231    NaN  \n",
       "..                ...                     ...          ...    ...  \n",
       "993       Sarah Miles             John Castle        56513    NaN  \n",
       "995     Patricia Neal             Buddy Ebsen       166544    NaN  \n",
       "996        James Dean           Carroll Baker        34075    NaN  \n",
       "998     Walter Slezak          William Bendix        26471    NaN  \n",
       "999    Lucie Mannheim          Godfrey Tearle        51853    NaN  \n",
       "\n",
       "[286 rows x 14 columns]"
      ]
     },
     "execution_count": 137,
     "metadata": {},
     "output_type": "execute_result"
    }
   ],
   "source": [
    "# Um total de 286 linhas que apresentam algum valor NaN\n",
    "\n",
    "df[df.isna().any(axis=1)]"
   ]
  },
  {
   "cell_type": "code",
   "execution_count": 138,
   "metadata": {
    "id": "x_QxnFVj9DNi"
   },
   "outputs": [],
   "source": [
    "# Estas serão desconsideradas para a analise, nos casos das colunas Certificate, que tem carater\n",
    "# qualitativo e não podem ser facilmente tratadas, e da coluna Gross\n",
    "df.dropna(subset=[\"Certificate\", \"Gross\"], inplace=True)"
   ]
  },
  {
   "cell_type": "code",
   "execution_count": 139,
   "metadata": {
    "colab": {
     "base_uri": "https://localhost:8080/"
    },
    "id": "Gc1T5_gM7rJ_",
    "outputId": "b9ef6cb6-da03-47e4-d4ba-e0c96cda32fe"
   },
   "outputs": [
    {
     "data": {
      "text/plain": [
       "178"
      ]
     },
     "execution_count": 139,
     "metadata": {},
     "output_type": "execute_result"
    }
   ],
   "source": [
    "# Número de gêneros avaliados ao total\n",
    "\n",
    "df[\"Genre\"].nunique()"
   ]
  },
  {
   "cell_type": "code",
   "execution_count": 140,
   "metadata": {
    "colab": {
     "base_uri": "https://localhost:8080/"
    },
    "id": "bP_DXSQf9YiD",
    "outputId": "67f41f69-9093-4301-c66a-a6fac2695fd5"
   },
   "outputs": [
    {
     "name": "stdout",
     "output_type": "stream",
     "text": [
      "Crime, Drama\n"
     ]
    }
   ],
   "source": [
    "# Cada linh é uma string, assim, filmes com mais de um gênero são interpretados como um gênero diferente\n",
    "\n",
    "print((df[\"Genre\"][1]))"
   ]
  },
  {
   "cell_type": "code",
   "execution_count": 141,
   "metadata": {
    "id": "oeI-nIqr9cIX"
   },
   "outputs": [],
   "source": [
    "# Convertendo os gêneros para um lista de gêneros\n",
    "\n",
    "df[\"Genre\"] = df[\"Genre\"].apply(lambda x: (x.split(\", \")))"
   ]
  },
  {
   "cell_type": "code",
   "execution_count": 142,
   "metadata": {
    "colab": {
     "base_uri": "https://localhost:8080/",
     "height": 818
    },
    "id": "qxxq9O0u9vtR",
    "outputId": "8c33da7a-76db-4aff-ba7c-11b6fcb2ac75"
   },
   "outputs": [
    {
     "data": {
      "text/html": [
       "<div>\n",
       "<style scoped>\n",
       "    .dataframe tbody tr th:only-of-type {\n",
       "        vertical-align: middle;\n",
       "    }\n",
       "\n",
       "    .dataframe tbody tr th {\n",
       "        vertical-align: top;\n",
       "    }\n",
       "\n",
       "    .dataframe thead th {\n",
       "        text-align: right;\n",
       "    }\n",
       "</style>\n",
       "<table border=\"1\" class=\"dataframe\">\n",
       "  <thead>\n",
       "    <tr style=\"text-align: right;\">\n",
       "      <th></th>\n",
       "      <th>Series_Title</th>\n",
       "      <th>Released_Year</th>\n",
       "      <th>Certificate</th>\n",
       "      <th>Runtime</th>\n",
       "      <th>Genre</th>\n",
       "      <th>IMDB_Rating</th>\n",
       "      <th>Meta_score</th>\n",
       "      <th>Director</th>\n",
       "      <th>Star1</th>\n",
       "      <th>Star2</th>\n",
       "      <th>Star3</th>\n",
       "      <th>Star4</th>\n",
       "      <th>No_of_Votes</th>\n",
       "      <th>Gross</th>\n",
       "    </tr>\n",
       "  </thead>\n",
       "  <tbody>\n",
       "    <tr>\n",
       "      <th>0</th>\n",
       "      <td>The Shawshank Redemption</td>\n",
       "      <td>1994</td>\n",
       "      <td>A</td>\n",
       "      <td>142 min</td>\n",
       "      <td>[Drama]</td>\n",
       "      <td>9.3</td>\n",
       "      <td>80.0</td>\n",
       "      <td>Frank Darabont</td>\n",
       "      <td>Tim Robbins</td>\n",
       "      <td>Morgan Freeman</td>\n",
       "      <td>Bob Gunton</td>\n",
       "      <td>William Sadler</td>\n",
       "      <td>2343110</td>\n",
       "      <td>28341469.0</td>\n",
       "    </tr>\n",
       "    <tr>\n",
       "      <th>1</th>\n",
       "      <td>The Godfather</td>\n",
       "      <td>1972</td>\n",
       "      <td>A</td>\n",
       "      <td>175 min</td>\n",
       "      <td>[Crime, Drama]</td>\n",
       "      <td>9.2</td>\n",
       "      <td>100.0</td>\n",
       "      <td>Francis Ford Coppola</td>\n",
       "      <td>Marlon Brando</td>\n",
       "      <td>Al Pacino</td>\n",
       "      <td>James Caan</td>\n",
       "      <td>Diane Keaton</td>\n",
       "      <td>1620367</td>\n",
       "      <td>134966411.0</td>\n",
       "    </tr>\n",
       "    <tr>\n",
       "      <th>2</th>\n",
       "      <td>The Dark Knight</td>\n",
       "      <td>2008</td>\n",
       "      <td>UA</td>\n",
       "      <td>152 min</td>\n",
       "      <td>[Action, Crime, Drama]</td>\n",
       "      <td>9.0</td>\n",
       "      <td>84.0</td>\n",
       "      <td>Christopher Nolan</td>\n",
       "      <td>Christian Bale</td>\n",
       "      <td>Heath Ledger</td>\n",
       "      <td>Aaron Eckhart</td>\n",
       "      <td>Michael Caine</td>\n",
       "      <td>2303232</td>\n",
       "      <td>534858444.0</td>\n",
       "    </tr>\n",
       "    <tr>\n",
       "      <th>3</th>\n",
       "      <td>The Godfather: Part II</td>\n",
       "      <td>1974</td>\n",
       "      <td>A</td>\n",
       "      <td>202 min</td>\n",
       "      <td>[Crime, Drama]</td>\n",
       "      <td>9.0</td>\n",
       "      <td>90.0</td>\n",
       "      <td>Francis Ford Coppola</td>\n",
       "      <td>Al Pacino</td>\n",
       "      <td>Robert De Niro</td>\n",
       "      <td>Robert Duvall</td>\n",
       "      <td>Diane Keaton</td>\n",
       "      <td>1129952</td>\n",
       "      <td>57300000.0</td>\n",
       "    </tr>\n",
       "    <tr>\n",
       "      <th>4</th>\n",
       "      <td>12 Angry Men</td>\n",
       "      <td>1957</td>\n",
       "      <td>U</td>\n",
       "      <td>96 min</td>\n",
       "      <td>[Crime, Drama]</td>\n",
       "      <td>9.0</td>\n",
       "      <td>96.0</td>\n",
       "      <td>Sidney Lumet</td>\n",
       "      <td>Henry Fonda</td>\n",
       "      <td>Lee J. Cobb</td>\n",
       "      <td>Martin Balsam</td>\n",
       "      <td>John Fiedler</td>\n",
       "      <td>689845</td>\n",
       "      <td>4360000.0</td>\n",
       "    </tr>\n",
       "    <tr>\n",
       "      <th>...</th>\n",
       "      <td>...</td>\n",
       "      <td>...</td>\n",
       "      <td>...</td>\n",
       "      <td>...</td>\n",
       "      <td>...</td>\n",
       "      <td>...</td>\n",
       "      <td>...</td>\n",
       "      <td>...</td>\n",
       "      <td>...</td>\n",
       "      <td>...</td>\n",
       "      <td>...</td>\n",
       "      <td>...</td>\n",
       "      <td>...</td>\n",
       "      <td>...</td>\n",
       "    </tr>\n",
       "    <tr>\n",
       "      <th>990</th>\n",
       "      <td>Giù la testa</td>\n",
       "      <td>1971</td>\n",
       "      <td>PG</td>\n",
       "      <td>157 min</td>\n",
       "      <td>[Drama, War, Western]</td>\n",
       "      <td>7.6</td>\n",
       "      <td>77.0</td>\n",
       "      <td>Sergio Leone</td>\n",
       "      <td>Rod Steiger</td>\n",
       "      <td>James Coburn</td>\n",
       "      <td>Romolo Valli</td>\n",
       "      <td>Maria Monti</td>\n",
       "      <td>30144</td>\n",
       "      <td>696690.0</td>\n",
       "    </tr>\n",
       "    <tr>\n",
       "      <th>991</th>\n",
       "      <td>Kelly's Heroes</td>\n",
       "      <td>1970</td>\n",
       "      <td>GP</td>\n",
       "      <td>144 min</td>\n",
       "      <td>[Adventure, Comedy, War]</td>\n",
       "      <td>7.6</td>\n",
       "      <td>50.0</td>\n",
       "      <td>Brian G. Hutton</td>\n",
       "      <td>Clint Eastwood</td>\n",
       "      <td>Telly Savalas</td>\n",
       "      <td>Don Rickles</td>\n",
       "      <td>Carroll O'Connor</td>\n",
       "      <td>45338</td>\n",
       "      <td>1378435.0</td>\n",
       "    </tr>\n",
       "    <tr>\n",
       "      <th>992</th>\n",
       "      <td>The Jungle Book</td>\n",
       "      <td>1967</td>\n",
       "      <td>U</td>\n",
       "      <td>78 min</td>\n",
       "      <td>[Animation, Adventure, Family]</td>\n",
       "      <td>7.6</td>\n",
       "      <td>65.0</td>\n",
       "      <td>Wolfgang Reitherman</td>\n",
       "      <td>Phil Harris</td>\n",
       "      <td>Sebastian Cabot</td>\n",
       "      <td>Louis Prima</td>\n",
       "      <td>Bruce Reitherman</td>\n",
       "      <td>166409</td>\n",
       "      <td>141843612.0</td>\n",
       "    </tr>\n",
       "    <tr>\n",
       "      <th>994</th>\n",
       "      <td>A Hard Day's Night</td>\n",
       "      <td>1964</td>\n",
       "      <td>U</td>\n",
       "      <td>87 min</td>\n",
       "      <td>[Comedy, Music, Musical]</td>\n",
       "      <td>7.6</td>\n",
       "      <td>96.0</td>\n",
       "      <td>Richard Lester</td>\n",
       "      <td>John Lennon</td>\n",
       "      <td>Paul McCartney</td>\n",
       "      <td>George Harrison</td>\n",
       "      <td>Ringo Starr</td>\n",
       "      <td>40351</td>\n",
       "      <td>13780024.0</td>\n",
       "    </tr>\n",
       "    <tr>\n",
       "      <th>997</th>\n",
       "      <td>From Here to Eternity</td>\n",
       "      <td>1953</td>\n",
       "      <td>Passed</td>\n",
       "      <td>118 min</td>\n",
       "      <td>[Drama, Romance, War]</td>\n",
       "      <td>7.6</td>\n",
       "      <td>85.0</td>\n",
       "      <td>Fred Zinnemann</td>\n",
       "      <td>Burt Lancaster</td>\n",
       "      <td>Montgomery Clift</td>\n",
       "      <td>Deborah Kerr</td>\n",
       "      <td>Donna Reed</td>\n",
       "      <td>43374</td>\n",
       "      <td>30500000.0</td>\n",
       "    </tr>\n",
       "  </tbody>\n",
       "</table>\n",
       "<p>785 rows × 14 columns</p>\n",
       "</div>"
      ],
      "text/plain": [
       "                 Series_Title Released_Year Certificate  Runtime  \\\n",
       "0    The Shawshank Redemption          1994           A  142 min   \n",
       "1               The Godfather          1972           A  175 min   \n",
       "2             The Dark Knight          2008          UA  152 min   \n",
       "3      The Godfather: Part II          1974           A  202 min   \n",
       "4                12 Angry Men          1957           U   96 min   \n",
       "..                        ...           ...         ...      ...   \n",
       "990              Giù la testa          1971          PG  157 min   \n",
       "991            Kelly's Heroes          1970          GP  144 min   \n",
       "992           The Jungle Book          1967           U   78 min   \n",
       "994        A Hard Day's Night          1964           U   87 min   \n",
       "997     From Here to Eternity          1953      Passed  118 min   \n",
       "\n",
       "                              Genre  IMDB_Rating  Meta_score  \\\n",
       "0                           [Drama]          9.3        80.0   \n",
       "1                    [Crime, Drama]          9.2       100.0   \n",
       "2            [Action, Crime, Drama]          9.0        84.0   \n",
       "3                    [Crime, Drama]          9.0        90.0   \n",
       "4                    [Crime, Drama]          9.0        96.0   \n",
       "..                              ...          ...         ...   \n",
       "990           [Drama, War, Western]          7.6        77.0   \n",
       "991        [Adventure, Comedy, War]          7.6        50.0   \n",
       "992  [Animation, Adventure, Family]          7.6        65.0   \n",
       "994        [Comedy, Music, Musical]          7.6        96.0   \n",
       "997           [Drama, Romance, War]          7.6        85.0   \n",
       "\n",
       "                 Director           Star1             Star2            Star3  \\\n",
       "0          Frank Darabont     Tim Robbins    Morgan Freeman       Bob Gunton   \n",
       "1    Francis Ford Coppola   Marlon Brando         Al Pacino       James Caan   \n",
       "2       Christopher Nolan  Christian Bale      Heath Ledger    Aaron Eckhart   \n",
       "3    Francis Ford Coppola       Al Pacino    Robert De Niro    Robert Duvall   \n",
       "4            Sidney Lumet     Henry Fonda       Lee J. Cobb    Martin Balsam   \n",
       "..                    ...             ...               ...              ...   \n",
       "990          Sergio Leone     Rod Steiger      James Coburn     Romolo Valli   \n",
       "991       Brian G. Hutton  Clint Eastwood     Telly Savalas      Don Rickles   \n",
       "992   Wolfgang Reitherman     Phil Harris   Sebastian Cabot      Louis Prima   \n",
       "994        Richard Lester     John Lennon    Paul McCartney  George Harrison   \n",
       "997        Fred Zinnemann  Burt Lancaster  Montgomery Clift     Deborah Kerr   \n",
       "\n",
       "                Star4  No_of_Votes        Gross  \n",
       "0      William Sadler      2343110   28341469.0  \n",
       "1        Diane Keaton      1620367  134966411.0  \n",
       "2       Michael Caine      2303232  534858444.0  \n",
       "3        Diane Keaton      1129952   57300000.0  \n",
       "4        John Fiedler       689845    4360000.0  \n",
       "..                ...          ...          ...  \n",
       "990       Maria Monti        30144     696690.0  \n",
       "991  Carroll O'Connor        45338    1378435.0  \n",
       "992  Bruce Reitherman       166409  141843612.0  \n",
       "994       Ringo Starr        40351   13780024.0  \n",
       "997        Donna Reed        43374   30500000.0  \n",
       "\n",
       "[785 rows x 14 columns]"
      ]
     },
     "execution_count": 142,
     "metadata": {},
     "output_type": "execute_result"
    }
   ],
   "source": [
    "df"
   ]
  },
  {
   "cell_type": "code",
   "execution_count": 143,
   "metadata": {
    "id": "VdGhnxp69k43"
   },
   "outputs": [],
   "source": [
    "# Número de gêneros distintos\n",
    "\n",
    "generos = []\n",
    "for genre_list in df[\"Genre\"]:\n",
    "    for genre in genre_list:\n",
    "        generos.append(genre)\n",
    "        \n",
    "generos_serie = pd.Series(generos)"
   ]
  },
  {
   "cell_type": "code",
   "execution_count": 144,
   "metadata": {
    "colab": {
     "base_uri": "https://localhost:8080/"
    },
    "id": "wHYryjx99oTp",
    "outputId": "0c9b2fa7-6298-4e06-df9d-0996d62a8a04"
   },
   "outputs": [
    {
     "name": "stdout",
     "output_type": "stream",
     "text": [
      "2010\n",
      "21\n"
     ]
    },
    {
     "data": {
      "text/plain": [
       "array(['Drama', 'Crime', 'Action', 'Adventure', 'Biography', 'History',\n",
       "       'Sci-Fi', 'Romance', 'Western', 'Fantasy', 'Comedy', 'Thriller',\n",
       "       'Animation', 'Family', 'War', 'Mystery', 'Music', 'Horror',\n",
       "       'Sport', 'Musical', 'Film-Noir'], dtype=object)"
      ]
     },
     "execution_count": 144,
     "metadata": {},
     "output_type": "execute_result"
    }
   ],
   "source": [
    "print(len(generos_serie))\n",
    "print(generos_serie.nunique())\n",
    "generos_serie.unique()"
   ]
  },
  {
   "cell_type": "markdown",
   "metadata": {
    "id": "Rpvis341-BV_"
   },
   "source": [
    "### Quais os gêneros mais comuns para esse conjunto de dados\n"
   ]
  },
  {
   "cell_type": "code",
   "execution_count": 145,
   "metadata": {
    "colab": {
     "base_uri": "https://localhost:8080/",
     "height": 324
    },
    "id": "xPHntg1X97YG",
    "outputId": "e7064d15-5138-4c1b-f789-a7ca2ebad93e"
   },
   "outputs": [
    {
     "data": {
      "text/plain": [
       "<AxesSubplot:>"
      ]
     },
     "execution_count": 145,
     "metadata": {},
     "output_type": "execute_result"
    },
    {
     "data": {
      "image/png": "[encoded data removed]",
      "text/plain": [
       "<Figure size 1080x288 with 1 Axes>"
      ]
     },
     "metadata": {
      "needs_background": "light"
     },
     "output_type": "display_data"
    }
   ],
   "source": [
    "generos_serie.value_counts().head(10).plot(kind=\"bar\")"
   ]
  },
  {
   "cell_type": "code",
   "execution_count": 146,
   "metadata": {
    "colab": {
     "base_uri": "https://localhost:8080/"
    },
    "id": "GNYGjVwu9_za",
    "outputId": "f5ffcfb8-fff1-49fb-fcdd-6f9569c6529e"
   },
   "outputs": [
    {
     "data": {
      "text/plain": [
       "Drama        557\n",
       "Comedy       184\n",
       "Adventure    168\n",
       "Crime        160\n",
       "Action       152\n",
       "Thriller     104\n",
       "Romance      101\n",
       "Biography     96\n",
       "Mystery       81\n",
       "Animation     66\n",
       "dtype: int64"
      ]
     },
     "execution_count": 146,
     "metadata": {},
     "output_type": "execute_result"
    }
   ],
   "source": [
    "generos_serie.value_counts().head(10)"
   ]
  },
  {
   "cell_type": "markdown",
   "metadata": {
    "id": "mcrlJJcP-Q-s"
   },
   "source": [
    "### Hipótese: Filmes com certificação U, ou UA possuem arrecadação maior que filmes com certificação A."
   ]
  },
  {
   "cell_type": "code",
   "execution_count": 147,
   "metadata": {
    "colab": {
     "base_uri": "https://localhost:8080/"
    },
    "id": "K6qT9H4C-K2X",
    "outputId": "4760d20e-cf03-489a-eaaf-68e61ea299a5"
   },
   "outputs": [
    {
     "name": "stdout",
     "output_type": "stream",
     "text": [
      "U     200\n",
      "A     180\n",
      "UA    163\n",
      "Name: Certificate, dtype: int64\n",
      "\n",
      "0.6917197452229299\n"
     ]
    }
   ],
   "source": [
    "print(df[\"Certificate\"].value_counts().head(3), end=\"\\n\\n\")\n",
    "print(df[\"Certificate\"].value_counts().head(3).sum() / df[\"Certificate\"].value_counts().sum())"
   ]
  },
  {
   "cell_type": "code",
   "execution_count": 148,
   "metadata": {
    "colab": {
     "base_uri": "https://localhost:8080/"
    },
    "id": "8U6Nu4G6-V5Y",
    "outputId": "ccf11e4c-1225-4e9c-9a1a-eefa93e94bb7"
   },
   "outputs": [
    {
     "name": "stdout",
     "output_type": "stream",
     "text": [
      "0.3095566543272738\n",
      "0.37923135354624093\n",
      "0.20400820580904455\n"
     ]
    }
   ],
   "source": [
    "print(df[df[\"Certificate\"] == \"U\"][\"Gross\"].sum() / df[\"Gross\"].sum())\n",
    "print(df[df[\"Certificate\"] == \"UA\"][\"Gross\"].sum() / df[\"Gross\"].sum())\n",
    "print(df[df[\"Certificate\"] == \"A\"][\"Gross\"].sum() / df[\"Gross\"].sum())"
   ]
  },
  {
   "cell_type": "markdown",
   "metadata": {
    "id": "xjtL-Wxw-mxJ"
   },
   "source": [
    "De fato, a hipótese é verificada,entretanto, filmes com classificação indicatica A ainda assim são responsáveis por pouco mais que 20% da Arrecadação total do conjunto de dados, mesmo não sendo este uma maioria. O esperado era um valor relativo menor do que o apresentado, afinal, filmes adultos, não são a maioria, e aprensetam parcela de público potencialmente menor."
   ]
  },
  {
   "cell_type": "markdown",
   "metadata": {
    "id": "0e-BJfj6-pWJ"
   },
   "source": [
    "### Hipótese: Os filmes de gênero Crime, Thriller, Horror, War, Noir são filmes com certificação A, em sua maioria."
   ]
  },
  {
   "cell_type": "code",
   "execution_count": 149,
   "metadata": {
    "id": "56JX66fr-hTR"
   },
   "outputs": [],
   "source": [
    "# Função que retorna se existe alguma interseção entre os gêneros de um dado filme e os gêneros de interesse.\n",
    "\n",
    "def interseccao(x, s2):\n",
    "    if set(x) & set(s2):\n",
    "        return True\n",
    "    else: \n",
    "        return False"
   ]
  },
  {
   "cell_type": "code",
   "execution_count": 150,
   "metadata": {
    "colab": {
     "base_uri": "https://localhost:8080/",
     "height": 818
    },
    "id": "V0y6uLki-zH7",
    "outputId": "11fe55bb-cbd4-4689-81ae-0625b55a4720"
   },
   "outputs": [
    {
     "data": {
      "text/html": [
       "<div>\n",
       "<style scoped>\n",
       "    .dataframe tbody tr th:only-of-type {\n",
       "        vertical-align: middle;\n",
       "    }\n",
       "\n",
       "    .dataframe tbody tr th {\n",
       "        vertical-align: top;\n",
       "    }\n",
       "\n",
       "    .dataframe thead th {\n",
       "        text-align: right;\n",
       "    }\n",
       "</style>\n",
       "<table border=\"1\" class=\"dataframe\">\n",
       "  <thead>\n",
       "    <tr style=\"text-align: right;\">\n",
       "      <th></th>\n",
       "      <th>Series_Title</th>\n",
       "      <th>Released_Year</th>\n",
       "      <th>Certificate</th>\n",
       "      <th>Runtime</th>\n",
       "      <th>Genre</th>\n",
       "      <th>IMDB_Rating</th>\n",
       "      <th>Meta_score</th>\n",
       "      <th>Director</th>\n",
       "      <th>Star1</th>\n",
       "      <th>Star2</th>\n",
       "      <th>Star3</th>\n",
       "      <th>Star4</th>\n",
       "      <th>No_of_Votes</th>\n",
       "      <th>Gross</th>\n",
       "    </tr>\n",
       "  </thead>\n",
       "  <tbody>\n",
       "    <tr>\n",
       "      <th>1</th>\n",
       "      <td>The Godfather</td>\n",
       "      <td>1972</td>\n",
       "      <td>A</td>\n",
       "      <td>175 min</td>\n",
       "      <td>[Crime, Drama]</td>\n",
       "      <td>9.2</td>\n",
       "      <td>100.0</td>\n",
       "      <td>Francis Ford Coppola</td>\n",
       "      <td>Marlon Brando</td>\n",
       "      <td>Al Pacino</td>\n",
       "      <td>James Caan</td>\n",
       "      <td>Diane Keaton</td>\n",
       "      <td>1620367</td>\n",
       "      <td>134966411.0</td>\n",
       "    </tr>\n",
       "    <tr>\n",
       "      <th>2</th>\n",
       "      <td>The Dark Knight</td>\n",
       "      <td>2008</td>\n",
       "      <td>UA</td>\n",
       "      <td>152 min</td>\n",
       "      <td>[Action, Crime, Drama]</td>\n",
       "      <td>9.0</td>\n",
       "      <td>84.0</td>\n",
       "      <td>Christopher Nolan</td>\n",
       "      <td>Christian Bale</td>\n",
       "      <td>Heath Ledger</td>\n",
       "      <td>Aaron Eckhart</td>\n",
       "      <td>Michael Caine</td>\n",
       "      <td>2303232</td>\n",
       "      <td>534858444.0</td>\n",
       "    </tr>\n",
       "    <tr>\n",
       "      <th>3</th>\n",
       "      <td>The Godfather: Part II</td>\n",
       "      <td>1974</td>\n",
       "      <td>A</td>\n",
       "      <td>202 min</td>\n",
       "      <td>[Crime, Drama]</td>\n",
       "      <td>9.0</td>\n",
       "      <td>90.0</td>\n",
       "      <td>Francis Ford Coppola</td>\n",
       "      <td>Al Pacino</td>\n",
       "      <td>Robert De Niro</td>\n",
       "      <td>Robert Duvall</td>\n",
       "      <td>Diane Keaton</td>\n",
       "      <td>1129952</td>\n",
       "      <td>57300000.0</td>\n",
       "    </tr>\n",
       "    <tr>\n",
       "      <th>4</th>\n",
       "      <td>12 Angry Men</td>\n",
       "      <td>1957</td>\n",
       "      <td>U</td>\n",
       "      <td>96 min</td>\n",
       "      <td>[Crime, Drama]</td>\n",
       "      <td>9.0</td>\n",
       "      <td>96.0</td>\n",
       "      <td>Sidney Lumet</td>\n",
       "      <td>Henry Fonda</td>\n",
       "      <td>Lee J. Cobb</td>\n",
       "      <td>Martin Balsam</td>\n",
       "      <td>John Fiedler</td>\n",
       "      <td>689845</td>\n",
       "      <td>4360000.0</td>\n",
       "    </tr>\n",
       "    <tr>\n",
       "      <th>6</th>\n",
       "      <td>Pulp Fiction</td>\n",
       "      <td>1994</td>\n",
       "      <td>A</td>\n",
       "      <td>154 min</td>\n",
       "      <td>[Crime, Drama]</td>\n",
       "      <td>8.9</td>\n",
       "      <td>94.0</td>\n",
       "      <td>Quentin Tarantino</td>\n",
       "      <td>John Travolta</td>\n",
       "      <td>Uma Thurman</td>\n",
       "      <td>Samuel L. Jackson</td>\n",
       "      <td>Bruce Willis</td>\n",
       "      <td>1826188</td>\n",
       "      <td>107928762.0</td>\n",
       "    </tr>\n",
       "    <tr>\n",
       "      <th>...</th>\n",
       "      <td>...</td>\n",
       "      <td>...</td>\n",
       "      <td>...</td>\n",
       "      <td>...</td>\n",
       "      <td>...</td>\n",
       "      <td>...</td>\n",
       "      <td>...</td>\n",
       "      <td>...</td>\n",
       "      <td>...</td>\n",
       "      <td>...</td>\n",
       "      <td>...</td>\n",
       "      <td>...</td>\n",
       "      <td>...</td>\n",
       "      <td>...</td>\n",
       "    </tr>\n",
       "    <tr>\n",
       "      <th>987</th>\n",
       "      <td>Midnight Express</td>\n",
       "      <td>1978</td>\n",
       "      <td>A</td>\n",
       "      <td>121 min</td>\n",
       "      <td>[Biography, Crime, Drama]</td>\n",
       "      <td>7.6</td>\n",
       "      <td>59.0</td>\n",
       "      <td>Alan Parker</td>\n",
       "      <td>Brad Davis</td>\n",
       "      <td>Irene Miracle</td>\n",
       "      <td>Bo Hopkins</td>\n",
       "      <td>Paolo Bonacelli</td>\n",
       "      <td>73662</td>\n",
       "      <td>35000000.0</td>\n",
       "    </tr>\n",
       "    <tr>\n",
       "      <th>989</th>\n",
       "      <td>The Long Goodbye</td>\n",
       "      <td>1973</td>\n",
       "      <td>A</td>\n",
       "      <td>112 min</td>\n",
       "      <td>[Comedy, Crime, Drama]</td>\n",
       "      <td>7.6</td>\n",
       "      <td>87.0</td>\n",
       "      <td>Robert Altman</td>\n",
       "      <td>Elliott Gould</td>\n",
       "      <td>Nina van Pallandt</td>\n",
       "      <td>Sterling Hayden</td>\n",
       "      <td>Mark Rydell</td>\n",
       "      <td>26337</td>\n",
       "      <td>959000.0</td>\n",
       "    </tr>\n",
       "    <tr>\n",
       "      <th>990</th>\n",
       "      <td>Giù la testa</td>\n",
       "      <td>1971</td>\n",
       "      <td>PG</td>\n",
       "      <td>157 min</td>\n",
       "      <td>[Drama, War, Western]</td>\n",
       "      <td>7.6</td>\n",
       "      <td>77.0</td>\n",
       "      <td>Sergio Leone</td>\n",
       "      <td>Rod Steiger</td>\n",
       "      <td>James Coburn</td>\n",
       "      <td>Romolo Valli</td>\n",
       "      <td>Maria Monti</td>\n",
       "      <td>30144</td>\n",
       "      <td>696690.0</td>\n",
       "    </tr>\n",
       "    <tr>\n",
       "      <th>991</th>\n",
       "      <td>Kelly's Heroes</td>\n",
       "      <td>1970</td>\n",
       "      <td>GP</td>\n",
       "      <td>144 min</td>\n",
       "      <td>[Adventure, Comedy, War]</td>\n",
       "      <td>7.6</td>\n",
       "      <td>50.0</td>\n",
       "      <td>Brian G. Hutton</td>\n",
       "      <td>Clint Eastwood</td>\n",
       "      <td>Telly Savalas</td>\n",
       "      <td>Don Rickles</td>\n",
       "      <td>Carroll O'Connor</td>\n",
       "      <td>45338</td>\n",
       "      <td>1378435.0</td>\n",
       "    </tr>\n",
       "    <tr>\n",
       "      <th>997</th>\n",
       "      <td>From Here to Eternity</td>\n",
       "      <td>1953</td>\n",
       "      <td>Passed</td>\n",
       "      <td>118 min</td>\n",
       "      <td>[Drama, Romance, War]</td>\n",
       "      <td>7.6</td>\n",
       "      <td>85.0</td>\n",
       "      <td>Fred Zinnemann</td>\n",
       "      <td>Burt Lancaster</td>\n",
       "      <td>Montgomery Clift</td>\n",
       "      <td>Deborah Kerr</td>\n",
       "      <td>Donna Reed</td>\n",
       "      <td>43374</td>\n",
       "      <td>30500000.0</td>\n",
       "    </tr>\n",
       "  </tbody>\n",
       "</table>\n",
       "<p>273 rows × 14 columns</p>\n",
       "</div>"
      ],
      "text/plain": [
       "               Series_Title Released_Year Certificate  Runtime  \\\n",
       "1             The Godfather          1972           A  175 min   \n",
       "2           The Dark Knight          2008          UA  152 min   \n",
       "3    The Godfather: Part II          1974           A  202 min   \n",
       "4              12 Angry Men          1957           U   96 min   \n",
       "6              Pulp Fiction          1994           A  154 min   \n",
       "..                      ...           ...         ...      ...   \n",
       "987        Midnight Express          1978           A  121 min   \n",
       "989        The Long Goodbye          1973           A  112 min   \n",
       "990            Giù la testa          1971          PG  157 min   \n",
       "991          Kelly's Heroes          1970          GP  144 min   \n",
       "997   From Here to Eternity          1953      Passed  118 min   \n",
       "\n",
       "                         Genre  IMDB_Rating  Meta_score              Director  \\\n",
       "1               [Crime, Drama]          9.2       100.0  Francis Ford Coppola   \n",
       "2       [Action, Crime, Drama]          9.0        84.0     Christopher Nolan   \n",
       "3               [Crime, Drama]          9.0        90.0  Francis Ford Coppola   \n",
       "4               [Crime, Drama]          9.0        96.0          Sidney Lumet   \n",
       "6               [Crime, Drama]          8.9        94.0     Quentin Tarantino   \n",
       "..                         ...          ...         ...                   ...   \n",
       "987  [Biography, Crime, Drama]          7.6        59.0           Alan Parker   \n",
       "989     [Comedy, Crime, Drama]          7.6        87.0         Robert Altman   \n",
       "990      [Drama, War, Western]          7.6        77.0          Sergio Leone   \n",
       "991   [Adventure, Comedy, War]          7.6        50.0       Brian G. Hutton   \n",
       "997      [Drama, Romance, War]          7.6        85.0        Fred Zinnemann   \n",
       "\n",
       "              Star1              Star2              Star3             Star4  \\\n",
       "1     Marlon Brando          Al Pacino         James Caan      Diane Keaton   \n",
       "2    Christian Bale       Heath Ledger      Aaron Eckhart     Michael Caine   \n",
       "3         Al Pacino     Robert De Niro      Robert Duvall      Diane Keaton   \n",
       "4       Henry Fonda        Lee J. Cobb      Martin Balsam      John Fiedler   \n",
       "6     John Travolta        Uma Thurman  Samuel L. Jackson      Bruce Willis   \n",
       "..              ...                ...                ...               ...   \n",
       "987      Brad Davis      Irene Miracle         Bo Hopkins   Paolo Bonacelli   \n",
       "989   Elliott Gould  Nina van Pallandt    Sterling Hayden       Mark Rydell   \n",
       "990     Rod Steiger       James Coburn       Romolo Valli       Maria Monti   \n",
       "991  Clint Eastwood      Telly Savalas        Don Rickles  Carroll O'Connor   \n",
       "997  Burt Lancaster   Montgomery Clift       Deborah Kerr        Donna Reed   \n",
       "\n",
       "     No_of_Votes        Gross  \n",
       "1        1620367  134966411.0  \n",
       "2        2303232  534858444.0  \n",
       "3        1129952   57300000.0  \n",
       "4         689845    4360000.0  \n",
       "6        1826188  107928762.0  \n",
       "..           ...          ...  \n",
       "987        73662   35000000.0  \n",
       "989        26337     959000.0  \n",
       "990        30144     696690.0  \n",
       "991        45338    1378435.0  \n",
       "997        43374   30500000.0  \n",
       "\n",
       "[273 rows x 14 columns]"
      ]
     },
     "execution_count": 150,
     "metadata": {},
     "output_type": "execute_result"
    }
   ],
   "source": [
    "generos_interesse = [\"Crime\", \"Thriller\", \"Horror\", \"War\", \"Film-Noir\"]\n",
    "\n",
    "df_hipotese_2 = df[df[\"Genre\"].apply(lambda x: interseccao(x, generos_interesse))]\n",
    "df_hipotese_2"
   ]
  },
  {
   "cell_type": "code",
   "execution_count": 151,
   "metadata": {
    "colab": {
     "base_uri": "https://localhost:8080/"
    },
    "id": "reO6z3Vn-2AP",
    "outputId": "122b0052-7ebe-4bf2-b7b5-a386f0109cdf"
   },
   "outputs": [
    {
     "data": {
      "text/plain": [
       "A           105\n",
       "R            62\n",
       "UA           52\n",
       "U            29\n",
       "Passed        9\n",
       "PG            6\n",
       "PG-13         4\n",
       "Approved      3\n",
       "GP            2\n",
       "U/A           1\n",
       "Name: Certificate, dtype: int64"
      ]
     },
     "execution_count": 151,
     "metadata": {},
     "output_type": "execute_result"
    }
   ],
   "source": [
    "df_hipotese_2[\"Certificate\"].value_counts()"
   ]
  },
  {
   "cell_type": "code",
   "execution_count": 152,
   "metadata": {
    "colab": {
     "base_uri": "https://localhost:8080/"
    },
    "id": "6bh3kOpM_R3m",
    "outputId": "5c0e28a8-9c65-4634-ecfb-eb1edbdd848f"
   },
   "outputs": [
    {
     "data": {
      "text/plain": [
       "A    0.583333\n",
       "Name: Certificate, dtype: float64"
      ]
     },
     "execution_count": 152,
     "metadata": {},
     "output_type": "execute_result"
    }
   ],
   "source": [
    "# Em termos percentuais\n",
    "\n",
    "df_hipotese_2['Certificate'][df_hipotese_2[\"Certificate\"] == \"A\"].value_counts() / df['Certificate'][df[\"Certificate\"] == \"A\"].value_counts()"
   ]
  },
  {
   "cell_type": "markdown",
   "metadata": {
    "id": "IL5AEo9I_VTH"
   },
   "source": [
    "A hipótese é verificada, é possivel observar ainda, que dos 180 filmes que apresentam certificação A, observados no item anterior, 105 pertencem a algum desses gêneros listados na lista **generos_interesse**, pouco enos de 60%."
   ]
  },
  {
   "cell_type": "code",
   "execution_count": null,
   "metadata": {
    "id": "BFTowtEZ_V74"
   },
   "outputs": [],
   "source": []
  }
 ],
 "metadata": {
  "colab": {
   "provenance": []
  },
  "kernelspec": {
   "display_name": "Python 3 (ipykernel)",
   "language": "python",
   "name": "python3"
  },
  "language_info": {
   "codemirror_mode": {
    "name": "ipython",
    "version": 3
   },
   "file_extension": ".py",
   "mimetype": "text/x-python",
   "name": "python",
   "nbconvert_exporter": "python",
   "pygments_lexer": "ipython3",
   "version": "3.9.7"
  }
 },
 "nbformat": 4,
 "nbformat_minor": 1
}
